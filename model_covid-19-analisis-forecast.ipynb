{
 "cells": [
  {
   "cell_type": "markdown",
   "metadata": {},
   "source": [
    "# ANALISIS DATA COVID-19 COLOMBIA"
   ]
  },
  {
   "cell_type": "markdown",
   "metadata": {},
   "source": [
    "Xibelly Eliseth Mosquera Escobar"
   ]
  },
  {
   "cell_type": "markdown",
   "metadata": {},
   "source": [
    "##  Importación de paquetes, librerias y funciones"
   ]
  },
  {
   "cell_type": "code",
   "execution_count": 12,
   "metadata": {},
   "outputs": [],
   "source": [
    "#intalacion del paquete de analisis de series de tiempo\n",
    "#!pip install pmdarima"
   ]
  },
  {
   "cell_type": "code",
   "execution_count": 1,
   "metadata": {},
   "outputs": [
    {
     "data": {
      "text/html": [
       "        <script type=\"text/javascript\">\n",
       "        window.PlotlyConfig = {MathJaxConfig: 'local'};\n",
       "        if (window.MathJax) {MathJax.Hub.Config({SVG: {font: \"STIX-Web\"}});}\n",
       "        if (typeof require !== 'undefined') {\n",
       "        require.undef(\"plotly\");\n",
       "        requirejs.config({\n",
       "            paths: {\n",
       "                'plotly': ['https://cdn.plot.ly/plotly-latest.min']\n",
       "            }\n",
       "        });\n",
       "        require(['plotly'], function(Plotly) {\n",
       "            window._Plotly = Plotly;\n",
       "        });\n",
       "        }\n",
       "        </script>\n",
       "        "
      ]
     },
     "metadata": {},
     "output_type": "display_data"
    },
    {
     "name": "stdout",
     "output_type": "stream",
     "text": [
      "[nltk_data] Downloading package punkt to\n",
      "[nltk_data]     C:\\Users\\Usuario\\AppData\\Roaming\\nltk_data...\n",
      "[nltk_data]   Package punkt is already up-to-date!\n",
      "[nltk_data] Downloading package stopwords to\n",
      "[nltk_data]     C:\\Users\\Usuario\\AppData\\Roaming\\nltk_data...\n",
      "[nltk_data]   Package stopwords is already up-to-date!\n"
     ]
    },
    {
     "data": {
      "text/plain": [
       "True"
      ]
     },
     "execution_count": 1,
     "metadata": {},
     "output_type": "execute_result"
    }
   ],
   "source": [
    "import math\n",
    "import pandas as pd\n",
    "import numpy as np\n",
    "import datetime as dt\n",
    "from datetime import date\n",
    "from dateutil.relativedelta import relativedelta\n",
    "from time import time\n",
    "from functools import reduce\n",
    "import os\n",
    "import matplotlib.pyplot as plt\n",
    "from sklearn.model_selection import train_test_split\n",
    "from sklearn.preprocessing import LabelEncoder\n",
    "from scipy import integrate, optimize\n",
    "\n",
    "import matplotlib.pyplot as plt#visualization\n",
    "from PIL import  Image\n",
    "%matplotlib inline\n",
    "import seaborn as sns#visualization\n",
    "import itertools\n",
    "import warnings\n",
    "warnings.filterwarnings(\"ignore\")\n",
    "import io\n",
    "import plotly.offline as py#visualization\n",
    "py.init_notebook_mode(connected=True)#visualization\n",
    "import plotly.graph_objs as go#visualization\n",
    "import plotly.tools as tls#visualization\n",
    "import plotly.figure_factory as ff#visualization\n",
    "\n",
    "from sklearn.linear_model import LogisticRegression\n",
    "from sklearn.metrics import confusion_matrix,accuracy_score,classification_report\n",
    "from sklearn.metrics import roc_auc_score,roc_curve,scorer\n",
    "from sklearn.metrics import f1_score\n",
    "#import statsmodels.api as sm\n",
    "from sklearn.metrics import precision_score,recall_score\n",
    "\n",
    "from sklearn.base import TransformerMixin\n",
    "#from yellowbrick.classifier import DiscriminationThreshold\n",
    "import regex as re\n",
    "import unicodedata\n",
    "import nltk\n",
    "nltk.download('punkt')\n",
    "nltk.download('stopwords')"
   ]
  },
  {
   "cell_type": "code",
   "execution_count": 2,
   "metadata": {},
   "outputs": [],
   "source": [
    "import pmdarima as pm\n",
    "from pmdarima import metrics"
   ]
  },
  {
   "cell_type": "code",
   "execution_count": 3,
   "metadata": {},
   "outputs": [],
   "source": [
    "from nltk.corpus import stopwords\n",
    "from nltk.tokenize import sent_tokenize \n",
    "from nltk.tokenize import word_tokenize \n",
    "from nltk.tokenize import regexp_tokenize\n",
    "from collections import OrderedDict"
   ]
  },
  {
   "cell_type": "code",
   "execution_count": 4,
   "metadata": {},
   "outputs": [],
   "source": [
    "def ETL (file):\n",
    "    print('-'*65)\n",
    "    print('se realiza la carga de la base de datos a un objeto data frame')\n",
    "    df= file #pd.read_table(file)  #pd.read_pickle(Direccion + nombreBd)\n",
    "    print(\"RevisiÃ³n de los datos(NÃºmero de Variables, NÃºmero de registros)\")\n",
    "    print('NÃºmero de variables: {0}'.format(df.shape[1]))\n",
    "    print('NÃºmero de registros: {0}'.format(df.shape[0]))\n",
    "    print('-'*65)\n",
    "    print(\"revisiÃ³n de las variables que posee la base de datos \")\n",
    "    print(list(df.columns.values))\n",
    "    print('-'*65)\n",
    "    print(\"Resumen descriptivo de las variables \")\n",
    "    print(df.describe())\n",
    "    print('-'*65)\n",
    "    print('Revision del tipo de variables que contiene la base de datos')\n",
    "    print(pd.DataFrame(df.dtypes,columns=['Tipo de variable']))\n",
    "    print('-'*65)\n",
    "    print(\"Se realiza una revisiÃ³n si existen datos N/A\")\n",
    "    revisionNull(df)\n",
    "    print('-'*65)\n",
    "    print('SelecciÃ³n de variables, en este paso lo que se realiza es la organizaciÃ³n de las variables, para trabajar con las variables categoricas a parte y las numericas ')\n",
    "    var_categoricas = list(df.select_dtypes(include=['object']).columns)\n",
    "    var_numericas = list(df.select_dtypes(exclude=['object']).columns)\n",
    "    print('-'*65)\n",
    "    print('Reporte de los niveles que puede tener cada una de las variables categoricas')\n",
    "    for variable in var_categoricas:\n",
    "        print(\"\\033[1m\",variable,\":\",\"\\033[0;0m\",df[variable].unique())\n",
    "    print(80*'-')\n",
    "    for variabl in  var_numericas:\n",
    "        print(\"--\"*30,variabl)\n",
    "        #plt.cla()\n",
    "        x = df[variabl].sort_values(ascending = False).reset_index()\n",
    "        x[variabl].plot()\n",
    "        #plt.plot(df[variabl].sort_values())    \n",
    "        plt.show()\n",
    "        plt.boxplot(x[variabl])\n",
    "        plt.show()\n",
    "        plt.close()\n",
    "\n",
    "    \n",
    "def revisionNull(df):\n",
    "    a=df.isnull().sum()\n",
    "    resulNa=[ re for re in a if re>0 ]\n",
    "    if resulNa:\n",
    "        print(resulNa)\n",
    "        \n",
    "    else :\n",
    "        print(\"No existen valores con NA o null\")\n",
    "                "
   ]
  },
  {
   "cell_type": "code",
   "execution_count": 6,
   "metadata": {},
   "outputs": [],
   "source": [
    "def procesar_texto(texto): \n",
    "    # Convert to lower case and remove punctuation from each word\n",
    "    sentences = ''.join([word.lower() for word in texto if word.isalpha()])\n",
    "    return sentences\n",
    "\n",
    "\n",
    "def strip_accents(text):\n",
    "\n",
    "    try:\n",
    "        text = unicode(text, 'utf-8')\n",
    "    except NameError: # unicode is a default on python 3 \n",
    "        pass\n",
    "\n",
    "    text = unicodedata.normalize('NFD', text)\\\n",
    "           .encode('ascii', 'ignore')\\\n",
    "           .decode(\"utf-8\")\n",
    "\n",
    "    return str(text)\n"
   ]
  },
  {
   "cell_type": "markdown",
   "metadata": {},
   "source": [
    "##   Lectura de los insumos"
   ]
  },
  {
   "cell_type": "markdown",
   "metadata": {},
   "source": [
    "La data se puede descargar de:\n",
    "https://www.ins.gov.co/Noticias/Paginas/Coronavirus.aspx?fbclid=IwAR0yhaEE5fUwdZS72dFSDndHxMtmrQTWlG1b0_Gunv-b_MqH3Wd6cprHdn4"
   ]
  },
  {
   "cell_type": "code",
   "execution_count": 7,
   "metadata": {},
   "outputs": [
    {
     "name": "stdout",
     "output_type": "stream",
     "text": [
      "los archivos suministrados son: \n",
      "covid-19 colombia  ['Casos1.csv', 'Casos1_06-04-2020.csv'] \n",
      "\n"
     ]
    }
   ],
   "source": [
    "dir_input = r\"...\\covid-19\\Input\"\n",
    "\n",
    "file= os.listdir(dir_input)\n",
    "\n",
    "print(\"los archivos suministrados son: \")\n",
    "print(\"covid-19 colombia \", file, \"\\n\")"
   ]
  },
  {
   "cell_type": "code",
   "execution_count": 8,
   "metadata": {},
   "outputs": [
    {
     "data": {
      "text/html": [
       "<div>\n",
       "<style scoped>\n",
       "    .dataframe tbody tr th:only-of-type {\n",
       "        vertical-align: middle;\n",
       "    }\n",
       "\n",
       "    .dataframe tbody tr th {\n",
       "        vertical-align: top;\n",
       "    }\n",
       "\n",
       "    .dataframe thead th {\n",
       "        text-align: right;\n",
       "    }\n",
       "</style>\n",
       "<table border=\"1\" class=\"dataframe\">\n",
       "  <thead>\n",
       "    <tr style=\"text-align: right;\">\n",
       "      <th></th>\n",
       "      <th>ID de caso</th>\n",
       "      <th>Fecha de diagnóstico</th>\n",
       "      <th>Ciudad de ubicación</th>\n",
       "      <th>Departamento o Distrito</th>\n",
       "      <th>Atención**</th>\n",
       "      <th>Edad</th>\n",
       "      <th>Sexo</th>\n",
       "      <th>Tipo*</th>\n",
       "      <th>País de procedencia</th>\n",
       "    </tr>\n",
       "  </thead>\n",
       "  <tbody>\n",
       "    <tr>\n",
       "      <th>0</th>\n",
       "      <td>1</td>\n",
       "      <td>06/03/2020</td>\n",
       "      <td>Bogotá</td>\n",
       "      <td>Bogotá D.C.</td>\n",
       "      <td>Recuperado</td>\n",
       "      <td>19</td>\n",
       "      <td>F</td>\n",
       "      <td>Importado</td>\n",
       "      <td>Italia</td>\n",
       "    </tr>\n",
       "    <tr>\n",
       "      <th>1</th>\n",
       "      <td>2</td>\n",
       "      <td>09/03/2020</td>\n",
       "      <td>Buga</td>\n",
       "      <td>Valle del Cauca</td>\n",
       "      <td>Recuperado</td>\n",
       "      <td>34</td>\n",
       "      <td>M</td>\n",
       "      <td>Importado</td>\n",
       "      <td>España</td>\n",
       "    </tr>\n",
       "    <tr>\n",
       "      <th>2</th>\n",
       "      <td>3</td>\n",
       "      <td>09/03/2020</td>\n",
       "      <td>Medellín</td>\n",
       "      <td>Antioquia</td>\n",
       "      <td>Recuperado</td>\n",
       "      <td>50</td>\n",
       "      <td>F</td>\n",
       "      <td>Importado</td>\n",
       "      <td>España</td>\n",
       "    </tr>\n",
       "    <tr>\n",
       "      <th>3</th>\n",
       "      <td>4</td>\n",
       "      <td>11/03/2020</td>\n",
       "      <td>Medellín</td>\n",
       "      <td>Antioquia</td>\n",
       "      <td>Recuperado</td>\n",
       "      <td>55</td>\n",
       "      <td>M</td>\n",
       "      <td>Relacionado</td>\n",
       "      <td>Colombia</td>\n",
       "    </tr>\n",
       "    <tr>\n",
       "      <th>4</th>\n",
       "      <td>5</td>\n",
       "      <td>11/03/2020</td>\n",
       "      <td>Medellín</td>\n",
       "      <td>Antioquia</td>\n",
       "      <td>Recuperado</td>\n",
       "      <td>25</td>\n",
       "      <td>M</td>\n",
       "      <td>Relacionado</td>\n",
       "      <td>Colombia</td>\n",
       "    </tr>\n",
       "  </tbody>\n",
       "</table>\n",
       "</div>"
      ],
      "text/plain": [
       "   ID de caso Fecha de diagnóstico Ciudad de ubicación  \\\n",
       "0           1           06/03/2020              Bogotá   \n",
       "1           2           09/03/2020                Buga   \n",
       "2           3           09/03/2020            Medellín   \n",
       "3           4           11/03/2020            Medellín   \n",
       "4           5           11/03/2020            Medellín   \n",
       "\n",
       "  Departamento o Distrito  Atención**  Edad Sexo        Tipo*  \\\n",
       "0             Bogotá D.C.  Recuperado    19    F    Importado   \n",
       "1         Valle del Cauca  Recuperado    34    M    Importado   \n",
       "2               Antioquia  Recuperado    50    F    Importado   \n",
       "3               Antioquia  Recuperado    55    M  Relacionado   \n",
       "4               Antioquia  Recuperado    25    M  Relacionado   \n",
       "\n",
       "  País de procedencia  \n",
       "0              Italia  \n",
       "1              España  \n",
       "2              España  \n",
       "3            Colombia  \n",
       "4            Colombia  "
      ]
     },
     "execution_count": 8,
     "metadata": {},
     "output_type": "execute_result"
    }
   ],
   "source": [
    "#leyendo los archivos de  \"ESTADO\" y concatenando en un solo dataframe\n",
    "archivo = pd.read_csv(os.path.join(dir_input,'Casos1.csv'), sep=',', error_bad_lines=False, encoding='utf-8')\n",
    "\n",
    "archivo.head()"
   ]
  },
  {
   "cell_type": "code",
   "execution_count": 9,
   "metadata": {},
   "outputs": [
    {
     "data": {
      "text/plain": [
       "ID de caso                  int64\n",
       "Fecha de diagnóstico       object\n",
       "Ciudad de ubicación        object\n",
       "Departamento o Distrito    object\n",
       "Atención**                 object\n",
       "Edad                        int64\n",
       "Sexo                       object\n",
       "Tipo*                      object\n",
       "País de procedencia        object\n",
       "dtype: object"
      ]
     },
     "execution_count": 9,
     "metadata": {},
     "output_type": "execute_result"
    }
   ],
   "source": [
    "archivo.dtypes"
   ]
  },
  {
   "cell_type": "code",
   "execution_count": 10,
   "metadata": {},
   "outputs": [],
   "source": [
    "# renombrando las columnas\n",
    "archivo = archivo.rename(columns={'Atención**':'Estado', 'Tipo*':'Tipo', 'ID de caso':'ID', 'Ciudad de ubicación':'Ciudad_destino', 'País de procedencia':'Pais_origen'})\n",
    "archivo = archivo.drop(['Departamento o Distrito'], axis=1)\n",
    "archivo = archivo.drop(['Sexo'], axis=1)"
   ]
  },
  {
   "cell_type": "code",
   "execution_count": 11,
   "metadata": {},
   "outputs": [
    {
     "data": {
      "text/html": [
       "<div>\n",
       "<style scoped>\n",
       "    .dataframe tbody tr th:only-of-type {\n",
       "        vertical-align: middle;\n",
       "    }\n",
       "\n",
       "    .dataframe tbody tr th {\n",
       "        vertical-align: top;\n",
       "    }\n",
       "\n",
       "    .dataframe thead th {\n",
       "        text-align: right;\n",
       "    }\n",
       "</style>\n",
       "<table border=\"1\" class=\"dataframe\">\n",
       "  <thead>\n",
       "    <tr style=\"text-align: right;\">\n",
       "      <th></th>\n",
       "      <th>ID</th>\n",
       "      <th>Fecha de diagnóstico</th>\n",
       "      <th>Ciudad_destino</th>\n",
       "      <th>Estado</th>\n",
       "      <th>Edad</th>\n",
       "      <th>Tipo</th>\n",
       "      <th>Pais_origen</th>\n",
       "    </tr>\n",
       "  </thead>\n",
       "  <tbody>\n",
       "    <tr>\n",
       "      <th>0</th>\n",
       "      <td>1</td>\n",
       "      <td>2020-03-06</td>\n",
       "      <td>Bogotá</td>\n",
       "      <td>Recuperado</td>\n",
       "      <td>19</td>\n",
       "      <td>Importado</td>\n",
       "      <td>Italia</td>\n",
       "    </tr>\n",
       "    <tr>\n",
       "      <th>1</th>\n",
       "      <td>2</td>\n",
       "      <td>2020-03-09</td>\n",
       "      <td>Buga</td>\n",
       "      <td>Recuperado</td>\n",
       "      <td>34</td>\n",
       "      <td>Importado</td>\n",
       "      <td>España</td>\n",
       "    </tr>\n",
       "    <tr>\n",
       "      <th>2</th>\n",
       "      <td>3</td>\n",
       "      <td>2020-03-09</td>\n",
       "      <td>Medellín</td>\n",
       "      <td>Recuperado</td>\n",
       "      <td>50</td>\n",
       "      <td>Importado</td>\n",
       "      <td>España</td>\n",
       "    </tr>\n",
       "    <tr>\n",
       "      <th>3</th>\n",
       "      <td>4</td>\n",
       "      <td>2020-03-11</td>\n",
       "      <td>Medellín</td>\n",
       "      <td>Recuperado</td>\n",
       "      <td>55</td>\n",
       "      <td>Relacionado</td>\n",
       "      <td>Colombia</td>\n",
       "    </tr>\n",
       "    <tr>\n",
       "      <th>4</th>\n",
       "      <td>5</td>\n",
       "      <td>2020-03-11</td>\n",
       "      <td>Medellín</td>\n",
       "      <td>Recuperado</td>\n",
       "      <td>25</td>\n",
       "      <td>Relacionado</td>\n",
       "      <td>Colombia</td>\n",
       "    </tr>\n",
       "  </tbody>\n",
       "</table>\n",
       "</div>"
      ],
      "text/plain": [
       "   ID Fecha de diagnóstico Ciudad_destino      Estado  Edad         Tipo  \\\n",
       "0   1           2020-03-06         Bogotá  Recuperado    19    Importado   \n",
       "1   2           2020-03-09           Buga  Recuperado    34    Importado   \n",
       "2   3           2020-03-09       Medellín  Recuperado    50    Importado   \n",
       "3   4           2020-03-11       Medellín  Recuperado    55  Relacionado   \n",
       "4   5           2020-03-11       Medellín  Recuperado    25  Relacionado   \n",
       "\n",
       "  Pais_origen  \n",
       "0      Italia  \n",
       "1      España  \n",
       "2      España  \n",
       "3    Colombia  \n",
       "4    Colombia  "
      ]
     },
     "execution_count": 11,
     "metadata": {},
     "output_type": "execute_result"
    }
   ],
   "source": [
    "# convirtiendo las fechas en formato date-time\n",
    "archivo[\"Fecha de diagnóstico\"] = archivo[\"Fecha de diagnóstico\"].replace('/','',regex=True).astype(str)\n",
    "archivo[\"Fecha de diagnóstico\"] = pd.to_datetime(archivo[\"Fecha de diagnóstico\"], format='%d%m%Y')\n",
    "archivo.head()"
   ]
  },
  {
   "cell_type": "code",
   "execution_count": 12,
   "metadata": {},
   "outputs": [
    {
     "data": {
      "text/html": [
       "<div>\n",
       "<style scoped>\n",
       "    .dataframe tbody tr th:only-of-type {\n",
       "        vertical-align: middle;\n",
       "    }\n",
       "\n",
       "    .dataframe tbody tr th {\n",
       "        vertical-align: top;\n",
       "    }\n",
       "\n",
       "    .dataframe thead th {\n",
       "        text-align: right;\n",
       "    }\n",
       "</style>\n",
       "<table border=\"1\" class=\"dataframe\">\n",
       "  <thead>\n",
       "    <tr style=\"text-align: right;\">\n",
       "      <th></th>\n",
       "      <th>ID</th>\n",
       "      <th>Fecha de diagnóstico</th>\n",
       "      <th>Ciudad_destino</th>\n",
       "      <th>Estado</th>\n",
       "      <th>Edad</th>\n",
       "      <th>Tipo</th>\n",
       "      <th>Pais_origen</th>\n",
       "    </tr>\n",
       "  </thead>\n",
       "  <tbody>\n",
       "    <tr>\n",
       "      <th>0</th>\n",
       "      <td>1</td>\n",
       "      <td>2020-03-06</td>\n",
       "      <td>bogota</td>\n",
       "      <td>recuperado</td>\n",
       "      <td>19</td>\n",
       "      <td>Importado</td>\n",
       "      <td>italia</td>\n",
       "    </tr>\n",
       "    <tr>\n",
       "      <th>1</th>\n",
       "      <td>2</td>\n",
       "      <td>2020-03-09</td>\n",
       "      <td>buga</td>\n",
       "      <td>recuperado</td>\n",
       "      <td>34</td>\n",
       "      <td>Importado</td>\n",
       "      <td>espana</td>\n",
       "    </tr>\n",
       "    <tr>\n",
       "      <th>2</th>\n",
       "      <td>3</td>\n",
       "      <td>2020-03-09</td>\n",
       "      <td>medellin</td>\n",
       "      <td>recuperado</td>\n",
       "      <td>50</td>\n",
       "      <td>Importado</td>\n",
       "      <td>espana</td>\n",
       "    </tr>\n",
       "    <tr>\n",
       "      <th>3</th>\n",
       "      <td>4</td>\n",
       "      <td>2020-03-11</td>\n",
       "      <td>medellin</td>\n",
       "      <td>recuperado</td>\n",
       "      <td>55</td>\n",
       "      <td>Relacionado</td>\n",
       "      <td>colombia</td>\n",
       "    </tr>\n",
       "    <tr>\n",
       "      <th>4</th>\n",
       "      <td>5</td>\n",
       "      <td>2020-03-11</td>\n",
       "      <td>medellin</td>\n",
       "      <td>recuperado</td>\n",
       "      <td>25</td>\n",
       "      <td>Relacionado</td>\n",
       "      <td>colombia</td>\n",
       "    </tr>\n",
       "  </tbody>\n",
       "</table>\n",
       "</div>"
      ],
      "text/plain": [
       "   ID Fecha de diagnóstico Ciudad_destino      Estado  Edad         Tipo  \\\n",
       "0   1           2020-03-06         bogota  recuperado    19    Importado   \n",
       "1   2           2020-03-09           buga  recuperado    34    Importado   \n",
       "2   3           2020-03-09       medellin  recuperado    50    Importado   \n",
       "3   4           2020-03-11       medellin  recuperado    55  Relacionado   \n",
       "4   5           2020-03-11       medellin  recuperado    25  Relacionado   \n",
       "\n",
       "  Pais_origen  \n",
       "0      italia  \n",
       "1      espana  \n",
       "2      espana  \n",
       "3    colombia  \n",
       "4    colombia  "
      ]
     },
     "execution_count": 12,
     "metadata": {},
     "output_type": "execute_result"
    }
   ],
   "source": [
    "# se procesa el texto en los campos de origen - destino\n",
    "archivo.Ciudad_destino =  archivo.Ciudad_destino.apply(procesar_texto)\n",
    "archivo.Pais_origen = archivo.Pais_origen.apply(procesar_texto)\n",
    "\n",
    "archivo.Ciudad_destino = archivo.Ciudad_destino.apply(strip_accents)\n",
    "archivo.Pais_origen = archivo.Pais_origen.apply(strip_accents)\n",
    "\n",
    "archivo.Estado = archivo.Estado.apply(procesar_texto)\n",
    "archivo.Estado = archivo.Estado.apply(strip_accents)\n",
    "\n",
    "archivo.head()"
   ]
  },
  {
   "cell_type": "markdown",
   "metadata": {},
   "source": [
    "## Análisis estadístico"
   ]
  },
  {
   "cell_type": "markdown",
   "metadata": {},
   "source": [
    "Se realiza un análisis estadístico a cada uno de los tipos de insumos suministrados, tal que se pueda identificar que tipo de datos se tienen, la cantidad de datos nulos y/o atípicos."
   ]
  },
  {
   "cell_type": "code",
   "execution_count": 13,
   "metadata": {},
   "outputs": [
    {
     "name": "stdout",
     "output_type": "stream",
     "text": [
      "-----------------------------------------------------------------\n",
      "se realiza la carga de la base de datos a un objeto data frame\n",
      "RevisiÃ³n de los datos(NÃºmero de Variables, NÃºmero de registros)\n",
      "NÃºmero de variables: 7\n",
      "NÃºmero de registros: 2054\n",
      "-----------------------------------------------------------------\n",
      "revisiÃ³n de las variables que posee la base de datos \n",
      "['ID', 'Fecha de diagnóstico', 'Ciudad_destino', 'Estado', 'Edad', 'Tipo', 'Pais_origen']\n",
      "-----------------------------------------------------------------\n",
      "Resumen descriptivo de las variables \n",
      "                ID         Edad\n",
      "count  2054.000000  2054.000000\n",
      "mean   1027.500000    43.031646\n",
      "std     593.083046    17.444686\n",
      "min       1.000000     0.000000\n",
      "25%     514.250000    30.000000\n",
      "50%    1027.500000    41.000000\n",
      "75%    1540.750000    55.000000\n",
      "max    2054.000000    97.000000\n",
      "-----------------------------------------------------------------\n",
      "Revision del tipo de variables que contiene la base de datos\n",
      "                     Tipo de variable\n",
      "ID                              int64\n",
      "Fecha de diagnóstico   datetime64[ns]\n",
      "Ciudad_destino                 object\n",
      "Estado                         object\n",
      "Edad                            int64\n",
      "Tipo                           object\n",
      "Pais_origen                    object\n",
      "-----------------------------------------------------------------\n",
      "Se realiza una revisiÃ³n si existen datos N/A\n",
      "No existen valores con NA o null\n",
      "-----------------------------------------------------------------\n",
      "SelecciÃ³n de variables, en este paso lo que se realiza es la organizaciÃ³n de las variables, para trabajar con las variables categoricas a parte y las numericas \n",
      "-----------------------------------------------------------------\n",
      "Reporte de los niveles que puede tener cada una de las variables categoricas\n",
      "\u001b[1m Ciudad_destino : \u001b[0;0m ['bogota' 'buga' 'medellin' 'itagui' 'cartagena' 'neiva' 'palmira'\n",
      " 'villavicencio' 'rionegro' 'cali' 'dosquebradas' 'cucuta' 'manizales'\n",
      " 'subachoque' 'soacha' 'barranquilla' 'bucaramanga' 'armenia' 'pereira'\n",
      " 'cajica' 'ibague' 'popayan' 'viterbo' 'anapoima' 'laestrella' 'envigado'\n",
      " 'santamarta' 'chia' 'madrid' 'villadelrosario' 'cartago' 'guarne' 'bello'\n",
      " 'calarca' 'valledupar' 'ladorada' 'chinchina' 'sanandres' 'yumbo' 'yopal'\n",
      " 'guatape' 'cota' 'sabaneta' 'villamaria' 'trujillo' 'pacho' 'elretiro'\n",
      " 'apartado' 'ipiales' 'mosquera' 'launion' 'fusagasuga' 'lacalera'\n",
      " 'villeta' 'palermo' 'sanpedro' 'darien' 'funza' 'tulua' 'soledad'\n",
      " 'eldovio' 'santana' 'frontino' 'tunja' 'tocancipa' 'puertocolombia'\n",
      " 'sahagun' 'pasto' 'polonuevo' 'villapinzon' 'montebello' 'santarosa'\n",
      " 'turbaco' 'sincelejo' 'laceja' 'sanfrancisco' 'floridablanca' 'lorica'\n",
      " 'oicata' 'arjona' 'sopo' 'tumaco' 'riohacha' 'zipaquira'\n",
      " 'puertosantander' 'togui' 'montenegro' 'cumbal' 'ulloa'\n",
      " 'santanderdequilichao' 'filandia' 'circasia' 'anserma' 'donmatias'\n",
      " 'caldas' 'choachi' 'cocorna' 'monteria' 'guacari' 'tenjo' 'buenaventura'\n",
      " 'acacias' 'barrancabermeja' 'sanjuanderioseco' 'angostura' 'puertotejada'\n",
      " 'ponedera' 'santotomas' 'galapa' 'cienagadeoro' 'santarosadecabal'\n",
      " 'latebaida' 'jamundi' 'tenza' 'ginebra' 'andalucia']\n",
      "\u001b[1m Estado : \u001b[0;0m ['recuperado' 'casa' 'hospital' 'hospitaluci' 'fallecido']\n",
      "\u001b[1m Tipo : \u001b[0;0m ['Importado' 'Relacionado' 'En estudio']\n",
      "\u001b[1m Pais_origen : \u001b[0;0m ['italia' 'espana' 'colombia' 'estadosunidos' 'ecuador' 'francia'\n",
      " 'turquia' 'alemania' 'brasil' 'croacia' 'panama' 'jamaica' 'grecia'\n",
      " 'mexico' 'guatemala' 'londres' 'republicadominicana' 'inglaterra'\n",
      " 'islasanmartin' 'puertorico' 'chile' 'canada' 'costarica' 'venezuela'\n",
      " 'egipto' 'cuba' 'europa' 'emiratosarabes' 'belgica' 'argentina'\n",
      " 'marruecos' 'aruba' 'suiza' 'israelegipto' 'peru' 'arabia' 'australia'\n",
      " 'dubai' 'honduras' 'curazao' 'irlanda' 'israel']\n",
      "--------------------------------------------------------------------------------\n",
      "------------------------------------------------------------ ID\n"
     ]
    },
    {
     "data": {
      "image/png": "[encoded data removed]",
      "text/plain": [
       "<Figure size 432x288 with 1 Axes>"
      ]
     },
     "metadata": {},
     "output_type": "display_data"
    },
    {
     "data": {
      "image/png": "[encoded data removed]",
      "text/plain": [
       "<Figure size 432x288 with 1 Axes>"
      ]
     },
     "metadata": {},
     "output_type": "display_data"
    },
    {
     "name": "stdout",
     "output_type": "stream",
     "text": [
      "------------------------------------------------------------ Fecha de diagnóstico\n"
     ]
    },
    {
     "data": {
      "image/png": "[encoded data removed]",
      "text/plain": [
       "<Figure size 432x288 with 1 Axes>"
      ]
     },
     "metadata": {},
     "output_type": "display_data"
    },
    {
     "ename": "UFuncTypeError",
     "evalue": "ufunc 'add' cannot use operands with types dtype('<M8[ns]') and dtype('<M8[ns]')",
     "output_type": "error",
     "traceback": [
      "\u001b[1;31m---------------------------------------------------------------------------\u001b[0m",
      "\u001b[1;31mUFuncTypeError\u001b[0m                            Traceback (most recent call last)",
      "\u001b[1;32m<ipython-input-13-bf2bfa99b4e9>\u001b[0m in \u001b[0;36m<module>\u001b[1;34m()\u001b[0m\n\u001b[0;32m      1\u001b[0m \u001b[1;31m# analisis estadistico\u001b[0m\u001b[1;33m\u001b[0m\u001b[1;33m\u001b[0m\u001b[0m\n\u001b[1;32m----> 2\u001b[1;33m \u001b[0mETL\u001b[0m\u001b[1;33m(\u001b[0m\u001b[0marchivo\u001b[0m\u001b[1;33m)\u001b[0m\u001b[1;33m\u001b[0m\u001b[0m\n\u001b[0m",
      "\u001b[1;32m<ipython-input-4-f47331f252ee>\u001b[0m in \u001b[0;36mETL\u001b[1;34m(file)\u001b[0m\n\u001b[0;32m     34\u001b[0m         \u001b[1;31m#plt.plot(df[variabl].sort_values())\u001b[0m\u001b[1;33m\u001b[0m\u001b[1;33m\u001b[0m\u001b[0m\n\u001b[0;32m     35\u001b[0m         \u001b[0mplt\u001b[0m\u001b[1;33m.\u001b[0m\u001b[0mshow\u001b[0m\u001b[1;33m(\u001b[0m\u001b[1;33m)\u001b[0m\u001b[1;33m\u001b[0m\u001b[0m\n\u001b[1;32m---> 36\u001b[1;33m         \u001b[0mplt\u001b[0m\u001b[1;33m.\u001b[0m\u001b[0mboxplot\u001b[0m\u001b[1;33m(\u001b[0m\u001b[0mx\u001b[0m\u001b[1;33m[\u001b[0m\u001b[0mvariabl\u001b[0m\u001b[1;33m]\u001b[0m\u001b[1;33m)\u001b[0m\u001b[1;33m\u001b[0m\u001b[0m\n\u001b[0m\u001b[0;32m     37\u001b[0m         \u001b[0mplt\u001b[0m\u001b[1;33m.\u001b[0m\u001b[0mshow\u001b[0m\u001b[1;33m(\u001b[0m\u001b[1;33m)\u001b[0m\u001b[1;33m\u001b[0m\u001b[0m\n\u001b[0;32m     38\u001b[0m         \u001b[0mplt\u001b[0m\u001b[1;33m.\u001b[0m\u001b[0mclose\u001b[0m\u001b[1;33m(\u001b[0m\u001b[1;33m)\u001b[0m\u001b[1;33m\u001b[0m\u001b[0m\n",
      "\u001b[1;32m~\\Anaconda3\\lib\\site-packages\\matplotlib\\pyplot.py\u001b[0m in \u001b[0;36mboxplot\u001b[1;34m(x, notch, sym, vert, whis, positions, widths, patch_artist, bootstrap, usermedians, conf_intervals, meanline, showmeans, showcaps, showbox, showfliers, boxprops, labels, flierprops, medianprops, meanprops, capprops, whiskerprops, manage_ticks, autorange, zorder, data)\u001b[0m\n\u001b[0;32m   2471\u001b[0m         \u001b[0mwhiskerprops\u001b[0m\u001b[1;33m=\u001b[0m\u001b[0mwhiskerprops\u001b[0m\u001b[1;33m,\u001b[0m \u001b[0mmanage_ticks\u001b[0m\u001b[1;33m=\u001b[0m\u001b[0mmanage_ticks\u001b[0m\u001b[1;33m,\u001b[0m\u001b[1;33m\u001b[0m\u001b[0m\n\u001b[0;32m   2472\u001b[0m         autorange=autorange, zorder=zorder, **({\"data\": data} if data\n\u001b[1;32m-> 2473\u001b[1;33m         is not None else {}))\n\u001b[0m\u001b[0;32m   2474\u001b[0m \u001b[1;33m\u001b[0m\u001b[0m\n\u001b[0;32m   2475\u001b[0m \u001b[1;33m\u001b[0m\u001b[0m\n",
      "\u001b[1;32m~\\Anaconda3\\lib\\site-packages\\matplotlib\\cbook\\deprecation.py\u001b[0m in \u001b[0;36mwrapper\u001b[1;34m(*args, **kwargs)\u001b[0m\n\u001b[0;32m    305\u001b[0m                 f\"for the old name will be dropped %(removal)s.\")\n\u001b[0;32m    306\u001b[0m             \u001b[0mkwargs\u001b[0m\u001b[1;33m[\u001b[0m\u001b[0mnew\u001b[0m\u001b[1;33m]\u001b[0m \u001b[1;33m=\u001b[0m \u001b[0mkwargs\u001b[0m\u001b[1;33m.\u001b[0m\u001b[0mpop\u001b[0m\u001b[1;33m(\u001b[0m\u001b[0mold\u001b[0m\u001b[1;33m)\u001b[0m\u001b[1;33m\u001b[0m\u001b[0m\n\u001b[1;32m--> 307\u001b[1;33m         \u001b[1;32mreturn\u001b[0m \u001b[0mfunc\u001b[0m\u001b[1;33m(\u001b[0m\u001b[1;33m*\u001b[0m\u001b[0margs\u001b[0m\u001b[1;33m,\u001b[0m \u001b[1;33m**\u001b[0m\u001b[0mkwargs\u001b[0m\u001b[1;33m)\u001b[0m\u001b[1;33m\u001b[0m\u001b[0m\n\u001b[0m\u001b[0;32m    308\u001b[0m \u001b[1;33m\u001b[0m\u001b[0m\n\u001b[0;32m    309\u001b[0m     \u001b[1;31m# wrapper() must keep the same documented signature as func(): if we\u001b[0m\u001b[1;33m\u001b[0m\u001b[1;33m\u001b[0m\u001b[0m\n",
      "\u001b[1;32m~\\Anaconda3\\lib\\site-packages\\matplotlib\\__init__.py\u001b[0m in \u001b[0;36minner\u001b[1;34m(ax, data, *args, **kwargs)\u001b[0m\n\u001b[0;32m   1587\u001b[0m     \u001b[1;32mdef\u001b[0m \u001b[0minner\u001b[0m\u001b[1;33m(\u001b[0m\u001b[0max\u001b[0m\u001b[1;33m,\u001b[0m \u001b[1;33m*\u001b[0m\u001b[0margs\u001b[0m\u001b[1;33m,\u001b[0m \u001b[0mdata\u001b[0m\u001b[1;33m=\u001b[0m\u001b[1;32mNone\u001b[0m\u001b[1;33m,\u001b[0m \u001b[1;33m**\u001b[0m\u001b[0mkwargs\u001b[0m\u001b[1;33m)\u001b[0m\u001b[1;33m:\u001b[0m\u001b[1;33m\u001b[0m\u001b[0m\n\u001b[0;32m   1588\u001b[0m         \u001b[1;32mif\u001b[0m \u001b[0mdata\u001b[0m \u001b[1;32mis\u001b[0m \u001b[1;32mNone\u001b[0m\u001b[1;33m:\u001b[0m\u001b[1;33m\u001b[0m\u001b[0m\n\u001b[1;32m-> 1589\u001b[1;33m             \u001b[1;32mreturn\u001b[0m \u001b[0mfunc\u001b[0m\u001b[1;33m(\u001b[0m\u001b[0max\u001b[0m\u001b[1;33m,\u001b[0m \u001b[1;33m*\u001b[0m\u001b[0mmap\u001b[0m\u001b[1;33m(\u001b[0m\u001b[0msanitize_sequence\u001b[0m\u001b[1;33m,\u001b[0m \u001b[0margs\u001b[0m\u001b[1;33m)\u001b[0m\u001b[1;33m,\u001b[0m \u001b[1;33m**\u001b[0m\u001b[0mkwargs\u001b[0m\u001b[1;33m)\u001b[0m\u001b[1;33m\u001b[0m\u001b[0m\n\u001b[0m\u001b[0;32m   1590\u001b[0m \u001b[1;33m\u001b[0m\u001b[0m\n\u001b[0;32m   1591\u001b[0m         \u001b[0mbound\u001b[0m \u001b[1;33m=\u001b[0m \u001b[0mnew_sig\u001b[0m\u001b[1;33m.\u001b[0m\u001b[0mbind\u001b[0m\u001b[1;33m(\u001b[0m\u001b[0max\u001b[0m\u001b[1;33m,\u001b[0m \u001b[1;33m*\u001b[0m\u001b[0margs\u001b[0m\u001b[1;33m,\u001b[0m \u001b[1;33m**\u001b[0m\u001b[0mkwargs\u001b[0m\u001b[1;33m)\u001b[0m\u001b[1;33m\u001b[0m\u001b[0m\n",
      "\u001b[1;32m~\\Anaconda3\\lib\\site-packages\\matplotlib\\axes\\_axes.py\u001b[0m in \u001b[0;36mboxplot\u001b[1;34m(self, x, notch, sym, vert, whis, positions, widths, patch_artist, bootstrap, usermedians, conf_intervals, meanline, showmeans, showcaps, showbox, showfliers, boxprops, labels, flierprops, medianprops, meanprops, capprops, whiskerprops, manage_ticks, autorange, zorder)\u001b[0m\n\u001b[0;32m   3668\u001b[0m \u001b[1;33m\u001b[0m\u001b[0m\n\u001b[0;32m   3669\u001b[0m         bxpstats = cbook.boxplot_stats(x, whis=whis, bootstrap=bootstrap,\n\u001b[1;32m-> 3670\u001b[1;33m                                        labels=labels, autorange=autorange)\n\u001b[0m\u001b[0;32m   3671\u001b[0m         \u001b[1;32mif\u001b[0m \u001b[0mnotch\u001b[0m \u001b[1;32mis\u001b[0m \u001b[1;32mNone\u001b[0m\u001b[1;33m:\u001b[0m\u001b[1;33m\u001b[0m\u001b[0m\n\u001b[0;32m   3672\u001b[0m             \u001b[0mnotch\u001b[0m \u001b[1;33m=\u001b[0m \u001b[0mrcParams\u001b[0m\u001b[1;33m[\u001b[0m\u001b[1;34m'boxplot.notch'\u001b[0m\u001b[1;33m]\u001b[0m\u001b[1;33m\u001b[0m\u001b[0m\n",
      "\u001b[1;32m~\\Anaconda3\\lib\\site-packages\\matplotlib\\cbook\\__init__.py\u001b[0m in \u001b[0;36mboxplot_stats\u001b[1;34m(X, whis, bootstrap, labels, autorange)\u001b[0m\n\u001b[0;32m   1283\u001b[0m \u001b[1;33m\u001b[0m\u001b[0m\n\u001b[0;32m   1284\u001b[0m         \u001b[1;31m# arithmetic mean\u001b[0m\u001b[1;33m\u001b[0m\u001b[1;33m\u001b[0m\u001b[0m\n\u001b[1;32m-> 1285\u001b[1;33m         \u001b[0mstats\u001b[0m\u001b[1;33m[\u001b[0m\u001b[1;34m'mean'\u001b[0m\u001b[1;33m]\u001b[0m \u001b[1;33m=\u001b[0m \u001b[0mnp\u001b[0m\u001b[1;33m.\u001b[0m\u001b[0mmean\u001b[0m\u001b[1;33m(\u001b[0m\u001b[0mx\u001b[0m\u001b[1;33m)\u001b[0m\u001b[1;33m\u001b[0m\u001b[0m\n\u001b[0m\u001b[0;32m   1286\u001b[0m \u001b[1;33m\u001b[0m\u001b[0m\n\u001b[0;32m   1287\u001b[0m         \u001b[1;31m# medians and quartiles\u001b[0m\u001b[1;33m\u001b[0m\u001b[1;33m\u001b[0m\u001b[0m\n",
      "\u001b[1;32m<__array_function__ internals>\u001b[0m in \u001b[0;36mmean\u001b[1;34m(*args, **kwargs)\u001b[0m\n",
      "\u001b[1;32m~\\Anaconda3\\lib\\site-packages\\numpy\\core\\fromnumeric.py\u001b[0m in \u001b[0;36mmean\u001b[1;34m(a, axis, dtype, out, keepdims)\u001b[0m\n\u001b[0;32m   3255\u001b[0m \u001b[1;33m\u001b[0m\u001b[0m\n\u001b[0;32m   3256\u001b[0m     return _methods._mean(a, axis=axis, dtype=dtype,\n\u001b[1;32m-> 3257\u001b[1;33m                           out=out, **kwargs)\n\u001b[0m\u001b[0;32m   3258\u001b[0m \u001b[1;33m\u001b[0m\u001b[0m\n\u001b[0;32m   3259\u001b[0m \u001b[1;33m\u001b[0m\u001b[0m\n",
      "\u001b[1;32m~\\Anaconda3\\lib\\site-packages\\numpy\\core\\_methods.py\u001b[0m in \u001b[0;36m_mean\u001b[1;34m(a, axis, dtype, out, keepdims)\u001b[0m\n\u001b[0;32m    149\u001b[0m             \u001b[0mis_float16_result\u001b[0m \u001b[1;33m=\u001b[0m \u001b[1;32mTrue\u001b[0m\u001b[1;33m\u001b[0m\u001b[0m\n\u001b[0;32m    150\u001b[0m \u001b[1;33m\u001b[0m\u001b[0m\n\u001b[1;32m--> 151\u001b[1;33m     \u001b[0mret\u001b[0m \u001b[1;33m=\u001b[0m \u001b[0mumr_sum\u001b[0m\u001b[1;33m(\u001b[0m\u001b[0marr\u001b[0m\u001b[1;33m,\u001b[0m \u001b[0maxis\u001b[0m\u001b[1;33m,\u001b[0m \u001b[0mdtype\u001b[0m\u001b[1;33m,\u001b[0m \u001b[0mout\u001b[0m\u001b[1;33m,\u001b[0m \u001b[0mkeepdims\u001b[0m\u001b[1;33m)\u001b[0m\u001b[1;33m\u001b[0m\u001b[0m\n\u001b[0m\u001b[0;32m    152\u001b[0m     \u001b[1;32mif\u001b[0m \u001b[0misinstance\u001b[0m\u001b[1;33m(\u001b[0m\u001b[0mret\u001b[0m\u001b[1;33m,\u001b[0m \u001b[0mmu\u001b[0m\u001b[1;33m.\u001b[0m\u001b[0mndarray\u001b[0m\u001b[1;33m)\u001b[0m\u001b[1;33m:\u001b[0m\u001b[1;33m\u001b[0m\u001b[0m\n\u001b[0;32m    153\u001b[0m         ret = um.true_divide(\n",
      "\u001b[1;31mUFuncTypeError\u001b[0m: ufunc 'add' cannot use operands with types dtype('<M8[ns]') and dtype('<M8[ns]')"
     ]
    },
    {
     "data": {
      "image/png": "[encoded data removed]",
      "text/plain": [
       "<Figure size 432x288 with 1 Axes>"
      ]
     },
     "metadata": {},
     "output_type": "display_data"
    }
   ],
   "source": [
    "# analisis estadistico \n",
    "ETL(archivo)"
   ]
  },
  {
   "cell_type": "markdown",
   "metadata": {},
   "source": [
    "## Casos confirmados y fallecidos"
   ]
  },
  {
   "cell_type": "code",
   "execution_count": 14,
   "metadata": {},
   "outputs": [
    {
     "name": "stdout",
     "output_type": "stream",
     "text": [
      "fallecidos Bogotá: 25\n",
      "fallecidos Medellín: 1\n",
      "fallecidos Cali: 5\n"
     ]
    }
   ],
   "source": [
    "print(\"fallecidos Bogotá:\",len(archivo[(archivo.Estado == 'fallecido') & (archivo.Ciudad_destino == 'bogota')]))\n",
    "\n",
    "print(\"fallecidos Medellín:\",len(archivo[(archivo.Estado == 'fallecido') & (archivo.Ciudad_destino == 'medellin')]))\n",
    "\n",
    "print(\"fallecidos Cali:\",len(archivo[(archivo.Estado == 'fallecido') & (archivo.Ciudad_destino == 'cali')]))"
   ]
  },
  {
   "cell_type": "markdown",
   "metadata": {},
   "source": [
    "## Supuestos"
   ]
  },
  {
   "cell_type": "markdown",
   "metadata": {},
   "source": [
    "Se propone filtrar todos aquellos casos que están en el estado: casa, hospital y UCI y se considerarían como casos confirmados del Covid-19, los demás son casos sde muertes confirmadas"
   ]
  },
  {
   "cell_type": "code",
   "execution_count": 15,
   "metadata": {},
   "outputs": [],
   "source": [
    "contagiados = archivo.copy()"
   ]
  },
  {
   "cell_type": "code",
   "execution_count": 16,
   "metadata": {},
   "outputs": [
    {
     "data": {
      "text/plain": [
       "array(['recuperado', 'casa', 'hospital', 'hospitaluci', 'fallecido'],\n",
       "      dtype=object)"
      ]
     },
     "execution_count": 16,
     "metadata": {},
     "output_type": "execute_result"
    }
   ],
   "source": [
    "contagiados.Estado.unique()"
   ]
  },
  {
   "cell_type": "code",
   "execution_count": 17,
   "metadata": {},
   "outputs": [],
   "source": [
    "# casos positivos del Covid-19\n",
    "contagiados['positivo_covid'] = [1 if i !='fallecido' else 0 for i in contagiados.Estado]"
   ]
  },
  {
   "cell_type": "code",
   "execution_count": 18,
   "metadata": {},
   "outputs": [],
   "source": [
    "# casos positivos de muertes por Covid-19\n",
    "contagiados['positivo_fallecido'] = [1 if i =='fallecido' else 0 for i in contagiados.Estado]"
   ]
  },
  {
   "cell_type": "code",
   "execution_count": 19,
   "metadata": {},
   "outputs": [],
   "source": [
    "# se hace un conteo para tener el total de casos positivos del Covid-19 y de casos de muertes por Covid-19 por echa y region del pais\n",
    "casos_confirmados = contagiados[contagiados.Estado !='fallecido'].groupby(['Ciudad_destino','Fecha de diagnóstico']).agg({'positivo_covid':'sum'}).reset_index().rename(columns={'positivo_covid':'Casos_confirmados'})\n",
    "casos_fallecidos = contagiados[contagiados.Estado =='fallecido'].groupby(['Ciudad_destino','Fecha de diagnóstico']).agg({'positivo_fallecido':'sum'}).reset_index().rename(columns={'positivo_fallecido':'Fallecidos'})"
   ]
  },
  {
   "cell_type": "code",
   "execution_count": 20,
   "metadata": {},
   "outputs": [
    {
     "data": {
      "text/html": [
       "<div>\n",
       "<style scoped>\n",
       "    .dataframe tbody tr th:only-of-type {\n",
       "        vertical-align: middle;\n",
       "    }\n",
       "\n",
       "    .dataframe tbody tr th {\n",
       "        vertical-align: top;\n",
       "    }\n",
       "\n",
       "    .dataframe thead th {\n",
       "        text-align: right;\n",
       "    }\n",
       "</style>\n",
       "<table border=\"1\" class=\"dataframe\">\n",
       "  <thead>\n",
       "    <tr style=\"text-align: right;\">\n",
       "      <th></th>\n",
       "      <th>Ciudad_destino</th>\n",
       "      <th>Fecha de diagnóstico</th>\n",
       "      <th>Casos_confirmados</th>\n",
       "    </tr>\n",
       "  </thead>\n",
       "  <tbody>\n",
       "    <tr>\n",
       "      <th>249</th>\n",
       "      <td>medellin</td>\n",
       "      <td>2020-03-09</td>\n",
       "      <td>1</td>\n",
       "    </tr>\n",
       "    <tr>\n",
       "      <th>250</th>\n",
       "      <td>medellin</td>\n",
       "      <td>2020-03-11</td>\n",
       "      <td>2</td>\n",
       "    </tr>\n",
       "    <tr>\n",
       "      <th>251</th>\n",
       "      <td>medellin</td>\n",
       "      <td>2020-03-14</td>\n",
       "      <td>2</td>\n",
       "    </tr>\n",
       "    <tr>\n",
       "      <th>252</th>\n",
       "      <td>medellin</td>\n",
       "      <td>2020-03-15</td>\n",
       "      <td>1</td>\n",
       "    </tr>\n",
       "    <tr>\n",
       "      <th>253</th>\n",
       "      <td>medellin</td>\n",
       "      <td>2020-03-19</td>\n",
       "      <td>3</td>\n",
       "    </tr>\n",
       "    <tr>\n",
       "      <th>254</th>\n",
       "      <td>medellin</td>\n",
       "      <td>2020-03-20</td>\n",
       "      <td>7</td>\n",
       "    </tr>\n",
       "    <tr>\n",
       "      <th>255</th>\n",
       "      <td>medellin</td>\n",
       "      <td>2020-03-21</td>\n",
       "      <td>1</td>\n",
       "    </tr>\n",
       "    <tr>\n",
       "      <th>256</th>\n",
       "      <td>medellin</td>\n",
       "      <td>2020-03-22</td>\n",
       "      <td>2</td>\n",
       "    </tr>\n",
       "    <tr>\n",
       "      <th>257</th>\n",
       "      <td>medellin</td>\n",
       "      <td>2020-03-23</td>\n",
       "      <td>13</td>\n",
       "    </tr>\n",
       "    <tr>\n",
       "      <th>258</th>\n",
       "      <td>medellin</td>\n",
       "      <td>2020-03-25</td>\n",
       "      <td>6</td>\n",
       "    </tr>\n",
       "    <tr>\n",
       "      <th>259</th>\n",
       "      <td>medellin</td>\n",
       "      <td>2020-03-28</td>\n",
       "      <td>4</td>\n",
       "    </tr>\n",
       "    <tr>\n",
       "      <th>260</th>\n",
       "      <td>medellin</td>\n",
       "      <td>2020-03-29</td>\n",
       "      <td>8</td>\n",
       "    </tr>\n",
       "    <tr>\n",
       "      <th>261</th>\n",
       "      <td>medellin</td>\n",
       "      <td>2020-03-30</td>\n",
       "      <td>8</td>\n",
       "    </tr>\n",
       "    <tr>\n",
       "      <th>262</th>\n",
       "      <td>medellin</td>\n",
       "      <td>2020-03-31</td>\n",
       "      <td>4</td>\n",
       "    </tr>\n",
       "    <tr>\n",
       "      <th>263</th>\n",
       "      <td>medellin</td>\n",
       "      <td>2020-04-01</td>\n",
       "      <td>1</td>\n",
       "    </tr>\n",
       "    <tr>\n",
       "      <th>264</th>\n",
       "      <td>medellin</td>\n",
       "      <td>2020-04-02</td>\n",
       "      <td>10</td>\n",
       "    </tr>\n",
       "    <tr>\n",
       "      <th>265</th>\n",
       "      <td>medellin</td>\n",
       "      <td>2020-04-03</td>\n",
       "      <td>11</td>\n",
       "    </tr>\n",
       "    <tr>\n",
       "      <th>266</th>\n",
       "      <td>medellin</td>\n",
       "      <td>2020-04-04</td>\n",
       "      <td>2</td>\n",
       "    </tr>\n",
       "    <tr>\n",
       "      <th>267</th>\n",
       "      <td>medellin</td>\n",
       "      <td>2020-04-05</td>\n",
       "      <td>9</td>\n",
       "    </tr>\n",
       "    <tr>\n",
       "      <th>268</th>\n",
       "      <td>medellin</td>\n",
       "      <td>2020-04-06</td>\n",
       "      <td>4</td>\n",
       "    </tr>\n",
       "    <tr>\n",
       "      <th>269</th>\n",
       "      <td>medellin</td>\n",
       "      <td>2020-04-07</td>\n",
       "      <td>23</td>\n",
       "    </tr>\n",
       "    <tr>\n",
       "      <th>270</th>\n",
       "      <td>medellin</td>\n",
       "      <td>2020-04-08</td>\n",
       "      <td>19</td>\n",
       "    </tr>\n",
       "  </tbody>\n",
       "</table>\n",
       "</div>"
      ],
      "text/plain": [
       "    Ciudad_destino Fecha de diagnóstico  Casos_confirmados\n",
       "249       medellin           2020-03-09                  1\n",
       "250       medellin           2020-03-11                  2\n",
       "251       medellin           2020-03-14                  2\n",
       "252       medellin           2020-03-15                  1\n",
       "253       medellin           2020-03-19                  3\n",
       "254       medellin           2020-03-20                  7\n",
       "255       medellin           2020-03-21                  1\n",
       "256       medellin           2020-03-22                  2\n",
       "257       medellin           2020-03-23                 13\n",
       "258       medellin           2020-03-25                  6\n",
       "259       medellin           2020-03-28                  4\n",
       "260       medellin           2020-03-29                  8\n",
       "261       medellin           2020-03-30                  8\n",
       "262       medellin           2020-03-31                  4\n",
       "263       medellin           2020-04-01                  1\n",
       "264       medellin           2020-04-02                 10\n",
       "265       medellin           2020-04-03                 11\n",
       "266       medellin           2020-04-04                  2\n",
       "267       medellin           2020-04-05                  9\n",
       "268       medellin           2020-04-06                  4\n",
       "269       medellin           2020-04-07                 23\n",
       "270       medellin           2020-04-08                 19"
      ]
     },
     "execution_count": 20,
     "metadata": {},
     "output_type": "execute_result"
    }
   ],
   "source": [
    "# casos en medellin\n",
    "casos_confirmados[(casos_confirmados.Ciudad_destino == 'medellin')]"
   ]
  },
  {
   "cell_type": "code",
   "execution_count": 217,
   "metadata": {},
   "outputs": [],
   "source": [
    "#print(len(contagiados) ,len(casos_confirmados), len(casos_fallecidos))"
   ]
  },
  {
   "cell_type": "code",
   "execution_count": 22,
   "metadata": {},
   "outputs": [
    {
     "data": {
      "text/html": [
       "<div>\n",
       "<style scoped>\n",
       "    .dataframe tbody tr th:only-of-type {\n",
       "        vertical-align: middle;\n",
       "    }\n",
       "\n",
       "    .dataframe tbody tr th {\n",
       "        vertical-align: top;\n",
       "    }\n",
       "\n",
       "    .dataframe thead th {\n",
       "        text-align: right;\n",
       "    }\n",
       "</style>\n",
       "<table border=\"1\" class=\"dataframe\">\n",
       "  <thead>\n",
       "    <tr style=\"text-align: right;\">\n",
       "      <th></th>\n",
       "      <th>Ciudad_destino</th>\n",
       "      <th>Fecha de diagnóstico</th>\n",
       "      <th>Fallecidos</th>\n",
       "    </tr>\n",
       "  </thead>\n",
       "  <tbody>\n",
       "    <tr>\n",
       "      <th>26</th>\n",
       "      <td>medellin</td>\n",
       "      <td>2020-04-06</td>\n",
       "      <td>1</td>\n",
       "    </tr>\n",
       "  </tbody>\n",
       "</table>\n",
       "</div>"
      ],
      "text/plain": [
       "   Ciudad_destino Fecha de diagnóstico  Fallecidos\n",
       "26       medellin           2020-04-06           1"
      ]
     },
     "execution_count": 22,
     "metadata": {},
     "output_type": "execute_result"
    }
   ],
   "source": [
    "# casos fallecidos en medellin\n",
    "casos_fallecidos[(casos_fallecidos.Ciudad_destino == 'medellin')]"
   ]
  },
  {
   "cell_type": "code",
   "execution_count": 23,
   "metadata": {},
   "outputs": [
    {
     "data": {
      "text/html": [
       "<div>\n",
       "<style scoped>\n",
       "    .dataframe tbody tr th:only-of-type {\n",
       "        vertical-align: middle;\n",
       "    }\n",
       "\n",
       "    .dataframe tbody tr th {\n",
       "        vertical-align: top;\n",
       "    }\n",
       "\n",
       "    .dataframe thead th {\n",
       "        text-align: right;\n",
       "    }\n",
       "</style>\n",
       "<table border=\"1\" class=\"dataframe\">\n",
       "  <thead>\n",
       "    <tr style=\"text-align: right;\">\n",
       "      <th></th>\n",
       "      <th>Ciudad_destino</th>\n",
       "      <th>Fecha de diagnóstico</th>\n",
       "      <th>Casos_confirmados</th>\n",
       "      <th>Fallecidos</th>\n",
       "    </tr>\n",
       "  </thead>\n",
       "  <tbody>\n",
       "    <tr>\n",
       "      <th>0</th>\n",
       "      <td>acacias</td>\n",
       "      <td>2020-04-05</td>\n",
       "      <td>1</td>\n",
       "      <td>NaN</td>\n",
       "    </tr>\n",
       "    <tr>\n",
       "      <th>1</th>\n",
       "      <td>anapoima</td>\n",
       "      <td>2020-03-20</td>\n",
       "      <td>1</td>\n",
       "      <td>NaN</td>\n",
       "    </tr>\n",
       "    <tr>\n",
       "      <th>2</th>\n",
       "      <td>anapoima</td>\n",
       "      <td>2020-03-24</td>\n",
       "      <td>1</td>\n",
       "      <td>NaN</td>\n",
       "    </tr>\n",
       "    <tr>\n",
       "      <th>3</th>\n",
       "      <td>andalucia</td>\n",
       "      <td>2020-04-08</td>\n",
       "      <td>1</td>\n",
       "      <td>NaN</td>\n",
       "    </tr>\n",
       "    <tr>\n",
       "      <th>4</th>\n",
       "      <td>angostura</td>\n",
       "      <td>2020-04-07</td>\n",
       "      <td>1</td>\n",
       "      <td>NaN</td>\n",
       "    </tr>\n",
       "    <tr>\n",
       "      <th>...</th>\n",
       "      <td>...</td>\n",
       "      <td>...</td>\n",
       "      <td>...</td>\n",
       "      <td>...</td>\n",
       "    </tr>\n",
       "    <tr>\n",
       "      <th>430</th>\n",
       "      <td>yumbo</td>\n",
       "      <td>2020-03-22</td>\n",
       "      <td>1</td>\n",
       "      <td>NaN</td>\n",
       "    </tr>\n",
       "    <tr>\n",
       "      <th>431</th>\n",
       "      <td>yumbo</td>\n",
       "      <td>2020-04-01</td>\n",
       "      <td>4</td>\n",
       "      <td>NaN</td>\n",
       "    </tr>\n",
       "    <tr>\n",
       "      <th>432</th>\n",
       "      <td>yumbo</td>\n",
       "      <td>2020-04-06</td>\n",
       "      <td>1</td>\n",
       "      <td>NaN</td>\n",
       "    </tr>\n",
       "    <tr>\n",
       "      <th>433</th>\n",
       "      <td>zipaquira</td>\n",
       "      <td>2020-04-05</td>\n",
       "      <td>1</td>\n",
       "      <td>NaN</td>\n",
       "    </tr>\n",
       "    <tr>\n",
       "      <th>434</th>\n",
       "      <td>zipaquira</td>\n",
       "      <td>2020-04-07</td>\n",
       "      <td>1</td>\n",
       "      <td>NaN</td>\n",
       "    </tr>\n",
       "  </tbody>\n",
       "</table>\n",
       "<p>435 rows × 4 columns</p>\n",
       "</div>"
      ],
      "text/plain": [
       "    Ciudad_destino Fecha de diagnóstico  Casos_confirmados  Fallecidos\n",
       "0          acacias           2020-04-05                  1         NaN\n",
       "1         anapoima           2020-03-20                  1         NaN\n",
       "2         anapoima           2020-03-24                  1         NaN\n",
       "3        andalucia           2020-04-08                  1         NaN\n",
       "4        angostura           2020-04-07                  1         NaN\n",
       "..             ...                  ...                ...         ...\n",
       "430          yumbo           2020-03-22                  1         NaN\n",
       "431          yumbo           2020-04-01                  4         NaN\n",
       "432          yumbo           2020-04-06                  1         NaN\n",
       "433      zipaquira           2020-04-05                  1         NaN\n",
       "434      zipaquira           2020-04-07                  1         NaN\n",
       "\n",
       "[435 rows x 4 columns]"
      ]
     },
     "execution_count": 23,
     "metadata": {},
     "output_type": "execute_result"
    }
   ],
   "source": [
    "# unificacion de los casos confirmados de Covid-19 y de muertes\n",
    "merge1 = pd.merge(casos_confirmados, casos_fallecidos, on=['Ciudad_destino','Fecha de diagnóstico'], how='left')\n",
    "merge1"
   ]
  },
  {
   "cell_type": "code",
   "execution_count": 24,
   "metadata": {},
   "outputs": [],
   "source": [
    "# replace Nan values by 0\n",
    "merge1.Fallecidos =  merge1.Fallecidos.replace([np.nan],0)\n",
    "merge1.Casos_confirmados =  merge1.Casos_confirmados.replace([np.nan],0)"
   ]
  },
  {
   "cell_type": "code",
   "execution_count": 25,
   "metadata": {},
   "outputs": [
    {
     "data": {
      "text/html": [
       "<div>\n",
       "<style scoped>\n",
       "    .dataframe tbody tr th:only-of-type {\n",
       "        vertical-align: middle;\n",
       "    }\n",
       "\n",
       "    .dataframe tbody tr th {\n",
       "        vertical-align: top;\n",
       "    }\n",
       "\n",
       "    .dataframe thead th {\n",
       "        text-align: right;\n",
       "    }\n",
       "</style>\n",
       "<table border=\"1\" class=\"dataframe\">\n",
       "  <thead>\n",
       "    <tr style=\"text-align: right;\">\n",
       "      <th></th>\n",
       "      <th>ID</th>\n",
       "      <th>Fecha de diagnóstico</th>\n",
       "      <th>Ciudad_destino</th>\n",
       "      <th>Estado</th>\n",
       "      <th>Edad</th>\n",
       "      <th>Tipo</th>\n",
       "      <th>Pais_origen</th>\n",
       "      <th>positivo_covid</th>\n",
       "      <th>positivo_fallecido</th>\n",
       "      <th>Casos_confirmados</th>\n",
       "      <th>Fallecidos</th>\n",
       "    </tr>\n",
       "  </thead>\n",
       "  <tbody>\n",
       "    <tr>\n",
       "      <th>0</th>\n",
       "      <td>1</td>\n",
       "      <td>2020-03-06</td>\n",
       "      <td>bogota</td>\n",
       "      <td>recuperado</td>\n",
       "      <td>19</td>\n",
       "      <td>Importado</td>\n",
       "      <td>italia</td>\n",
       "      <td>1</td>\n",
       "      <td>0</td>\n",
       "      <td>1.0</td>\n",
       "      <td>0.0</td>\n",
       "    </tr>\n",
       "    <tr>\n",
       "      <th>1</th>\n",
       "      <td>2</td>\n",
       "      <td>2020-03-09</td>\n",
       "      <td>buga</td>\n",
       "      <td>recuperado</td>\n",
       "      <td>34</td>\n",
       "      <td>Importado</td>\n",
       "      <td>espana</td>\n",
       "      <td>1</td>\n",
       "      <td>0</td>\n",
       "      <td>1.0</td>\n",
       "      <td>0.0</td>\n",
       "    </tr>\n",
       "    <tr>\n",
       "      <th>2</th>\n",
       "      <td>3</td>\n",
       "      <td>2020-03-09</td>\n",
       "      <td>medellin</td>\n",
       "      <td>recuperado</td>\n",
       "      <td>50</td>\n",
       "      <td>Importado</td>\n",
       "      <td>espana</td>\n",
       "      <td>1</td>\n",
       "      <td>0</td>\n",
       "      <td>1.0</td>\n",
       "      <td>0.0</td>\n",
       "    </tr>\n",
       "    <tr>\n",
       "      <th>3</th>\n",
       "      <td>4</td>\n",
       "      <td>2020-03-11</td>\n",
       "      <td>medellin</td>\n",
       "      <td>recuperado</td>\n",
       "      <td>55</td>\n",
       "      <td>Relacionado</td>\n",
       "      <td>colombia</td>\n",
       "      <td>1</td>\n",
       "      <td>0</td>\n",
       "      <td>2.0</td>\n",
       "      <td>0.0</td>\n",
       "    </tr>\n",
       "    <tr>\n",
       "      <th>4</th>\n",
       "      <td>5</td>\n",
       "      <td>2020-03-11</td>\n",
       "      <td>medellin</td>\n",
       "      <td>recuperado</td>\n",
       "      <td>25</td>\n",
       "      <td>Relacionado</td>\n",
       "      <td>colombia</td>\n",
       "      <td>1</td>\n",
       "      <td>0</td>\n",
       "      <td>2.0</td>\n",
       "      <td>0.0</td>\n",
       "    </tr>\n",
       "  </tbody>\n",
       "</table>\n",
       "</div>"
      ],
      "text/plain": [
       "   ID Fecha de diagnóstico Ciudad_destino      Estado  Edad         Tipo  \\\n",
       "0   1           2020-03-06         bogota  recuperado    19    Importado   \n",
       "1   2           2020-03-09           buga  recuperado    34    Importado   \n",
       "2   3           2020-03-09       medellin  recuperado    50    Importado   \n",
       "3   4           2020-03-11       medellin  recuperado    55  Relacionado   \n",
       "4   5           2020-03-11       medellin  recuperado    25  Relacionado   \n",
       "\n",
       "  Pais_origen  positivo_covid  positivo_fallecido  Casos_confirmados  \\\n",
       "0      italia               1                   0                1.0   \n",
       "1      espana               1                   0                1.0   \n",
       "2      espana               1                   0                1.0   \n",
       "3    colombia               1                   0                2.0   \n",
       "4    colombia               1                   0                2.0   \n",
       "\n",
       "   Fallecidos  \n",
       "0         0.0  \n",
       "1         0.0  \n",
       "2         0.0  \n",
       "3         0.0  \n",
       "4         0.0  "
      ]
     },
     "execution_count": 25,
     "metadata": {},
     "output_type": "execute_result"
    }
   ],
   "source": [
    "contagiados = pd.merge(contagiados, merge1, on=['Ciudad_destino','Fecha de diagnóstico'], how='left')\n",
    "contagiados.head()"
   ]
  },
  {
   "cell_type": "code",
   "execution_count": 26,
   "metadata": {},
   "outputs": [
    {
     "data": {
      "text/plain": [
       "ID                       0\n",
       "Fecha de diagnóstico     0\n",
       "Ciudad_destino           0\n",
       "Estado                   0\n",
       "Edad                     0\n",
       "Tipo                     0\n",
       "Pais_origen              0\n",
       "positivo_covid           0\n",
       "positivo_fallecido       0\n",
       "Casos_confirmados       14\n",
       "Fallecidos              14\n",
       "dtype: int64"
      ]
     },
     "execution_count": 26,
     "metadata": {},
     "output_type": "execute_result"
    }
   ],
   "source": [
    "contagiados.isnull().sum()"
   ]
  },
  {
   "cell_type": "code",
   "execution_count": 27,
   "metadata": {},
   "outputs": [],
   "source": [
    "# select the interest variables: \n",
    "contagiados = contagiados[['ID','Fecha de diagnóstico','Ciudad_destino','Pais_origen','Casos_confirmados','Fallecidos']]\n",
    "\n",
    "# erase duplicate rows and only left the first one\n",
    "contagiados_final = contagiados.drop_duplicates(subset=['Fecha de diagnóstico','Ciudad_destino'], keep='last') "
   ]
  },
  {
   "cell_type": "code",
   "execution_count": 28,
   "metadata": {},
   "outputs": [
    {
     "data": {
      "text/html": [
       "<div>\n",
       "<style scoped>\n",
       "    .dataframe tbody tr th:only-of-type {\n",
       "        vertical-align: middle;\n",
       "    }\n",
       "\n",
       "    .dataframe tbody tr th {\n",
       "        vertical-align: top;\n",
       "    }\n",
       "\n",
       "    .dataframe thead th {\n",
       "        text-align: right;\n",
       "    }\n",
       "</style>\n",
       "<table border=\"1\" class=\"dataframe\">\n",
       "  <thead>\n",
       "    <tr style=\"text-align: right;\">\n",
       "      <th></th>\n",
       "      <th>ID</th>\n",
       "      <th>Fecha de diagnóstico</th>\n",
       "      <th>Ciudad_destino</th>\n",
       "      <th>Pais_origen</th>\n",
       "      <th>Casos_confirmados</th>\n",
       "      <th>Fallecidos</th>\n",
       "    </tr>\n",
       "  </thead>\n",
       "  <tbody>\n",
       "    <tr>\n",
       "      <th>1997</th>\n",
       "      <td>1998</td>\n",
       "      <td>2020-04-08</td>\n",
       "      <td>medellin</td>\n",
       "      <td>estadosunidos</td>\n",
       "      <td>19.0</td>\n",
       "      <td>0.0</td>\n",
       "    </tr>\n",
       "  </tbody>\n",
       "</table>\n",
       "</div>"
      ],
      "text/plain": [
       "        ID Fecha de diagnóstico Ciudad_destino    Pais_origen  \\\n",
       "1997  1998           2020-04-08       medellin  estadosunidos   \n",
       "\n",
       "      Casos_confirmados  Fallecidos  \n",
       "1997               19.0         0.0  "
      ]
     },
     "execution_count": 28,
     "metadata": {},
     "output_type": "execute_result"
    }
   ],
   "source": [
    "# nos quedamos con la cantidad total de casos confirmados de covid-29 y de muertes por region y fecha\n",
    "contagiados_final[(contagiados_final.Ciudad_destino == 'medellin') & (contagiados_final['Fecha de diagnóstico'] == '2020-04-08')]"
   ]
  },
  {
   "cell_type": "code",
   "execution_count": 29,
   "metadata": {},
   "outputs": [
    {
     "data": {
      "text/html": [
       "<div>\n",
       "<style scoped>\n",
       "    .dataframe tbody tr th:only-of-type {\n",
       "        vertical-align: middle;\n",
       "    }\n",
       "\n",
       "    .dataframe tbody tr th {\n",
       "        vertical-align: top;\n",
       "    }\n",
       "\n",
       "    .dataframe thead th {\n",
       "        text-align: right;\n",
       "    }\n",
       "</style>\n",
       "<table border=\"1\" class=\"dataframe\">\n",
       "  <thead>\n",
       "    <tr style=\"text-align: right;\">\n",
       "      <th></th>\n",
       "      <th>ID</th>\n",
       "      <th>Casos_confirmados</th>\n",
       "      <th>Fallecidos</th>\n",
       "    </tr>\n",
       "  </thead>\n",
       "  <tbody>\n",
       "    <tr>\n",
       "      <th>count</th>\n",
       "      <td>449.000000</td>\n",
       "      <td>435.000000</td>\n",
       "      <td>435.000000</td>\n",
       "    </tr>\n",
       "    <tr>\n",
       "      <th>mean</th>\n",
       "      <td>817.973274</td>\n",
       "      <td>4.595402</td>\n",
       "      <td>0.094253</td>\n",
       "    </tr>\n",
       "    <tr>\n",
       "      <th>std</th>\n",
       "      <td>608.067657</td>\n",
       "      <td>12.140004</td>\n",
       "      <td>0.416081</td>\n",
       "    </tr>\n",
       "    <tr>\n",
       "      <th>min</th>\n",
       "      <td>1.000000</td>\n",
       "      <td>1.000000</td>\n",
       "      <td>0.000000</td>\n",
       "    </tr>\n",
       "    <tr>\n",
       "      <th>25%</th>\n",
       "      <td>288.000000</td>\n",
       "      <td>1.000000</td>\n",
       "      <td>0.000000</td>\n",
       "    </tr>\n",
       "    <tr>\n",
       "      <th>50%</th>\n",
       "      <td>700.000000</td>\n",
       "      <td>1.000000</td>\n",
       "      <td>0.000000</td>\n",
       "    </tr>\n",
       "    <tr>\n",
       "      <th>75%</th>\n",
       "      <td>1280.000000</td>\n",
       "      <td>3.000000</td>\n",
       "      <td>0.000000</td>\n",
       "    </tr>\n",
       "    <tr>\n",
       "      <th>max</th>\n",
       "      <td>2054.000000</td>\n",
       "      <td>131.000000</td>\n",
       "      <td>4.000000</td>\n",
       "    </tr>\n",
       "  </tbody>\n",
       "</table>\n",
       "</div>"
      ],
      "text/plain": [
       "                ID  Casos_confirmados  Fallecidos\n",
       "count   449.000000         435.000000  435.000000\n",
       "mean    817.973274           4.595402    0.094253\n",
       "std     608.067657          12.140004    0.416081\n",
       "min       1.000000           1.000000    0.000000\n",
       "25%     288.000000           1.000000    0.000000\n",
       "50%     700.000000           1.000000    0.000000\n",
       "75%    1280.000000           3.000000    0.000000\n",
       "max    2054.000000         131.000000    4.000000"
      ]
     },
     "metadata": {},
     "output_type": "display_data"
    }
   ],
   "source": [
    "display(contagiados_final.describe())"
   ]
  },
  {
   "cell_type": "code",
   "execution_count": 30,
   "metadata": {},
   "outputs": [],
   "source": [
    "# replace Nan values by 0\n",
    "contagiados_final.Fallecidos =  contagiados_final.Fallecidos.replace([np.nan],0)\n",
    "contagiados_final.Casos_confirmados =  contagiados_final.Casos_confirmados.replace([np.nan],0)"
   ]
  },
  {
   "cell_type": "code",
   "execution_count": 31,
   "metadata": {},
   "outputs": [
    {
     "data": {
      "text/plain": [
       "ID                      0\n",
       "Fecha de diagnóstico    0\n",
       "Ciudad_destino          0\n",
       "Pais_origen             0\n",
       "Casos_confirmados       0\n",
       "Fallecidos              0\n",
       "dtype: int64"
      ]
     },
     "execution_count": 31,
     "metadata": {},
     "output_type": "execute_result"
    }
   ],
   "source": [
    "contagiados_final.isnull().sum()"
   ]
  },
  {
   "cell_type": "code",
   "execution_count": 32,
   "metadata": {},
   "outputs": [
    {
     "name": "stdout",
     "output_type": "stream",
     "text": [
      "Dates go from day 2020-03-06 00:00:00 to day 2020-04-08 00:00:00 , a total of 31 days\n"
     ]
    }
   ],
   "source": [
    "# la venta de tiempo dada es\n",
    "print(\"Dates go from day\", min(contagiados_final['Fecha de diagnóstico']), \"to day\", max(contagiados_final['Fecha de diagnóstico']), \", a total of\", contagiados_final['Fecha de diagnóstico'].nunique(), \"days\")"
   ]
  },
  {
   "cell_type": "markdown",
   "metadata": {},
   "source": [
    "## Análisis exploratorio"
   ]
  },
  {
   "cell_type": "markdown",
   "metadata": {},
   "source": [
    "A este momento se tiene un dataset con todas las regiones del pais con casos positivos de Covid-19 y muertes para las fechas respectivas de diagnostico ahora veamos el comportamineto en el tiempo"
   ]
  },
  {
   "cell_type": "markdown",
   "metadata": {},
   "source": [
    "### Numero de casos confirmado y fallecidos en el país"
   ]
  },
  {
   "cell_type": "code",
   "execution_count": 33,
   "metadata": {},
   "outputs": [
    {
     "data": {
      "text/plain": [
       "Text(0.5, 0, 'Date')"
      ]
     },
     "execution_count": 33,
     "metadata": {},
     "output_type": "execute_result"
    },
    {
     "data": {
      "image/png": "[encoded data removed]",
      "text/plain": [
       "<Figure size 1224x504 with 2 Axes>"
      ]
     },
     "metadata": {},
     "output_type": "display_data"
    }
   ],
   "source": [
    "confirmed_total_date = contagiados_final.groupby(['Fecha de diagnóstico']).agg({'Casos_confirmados':['sum']})\n",
    "fatalities_total_date = contagiados_final.groupby(['Fecha de diagnóstico']).agg({'Fallecidos':['sum']})\n",
    "total_date = confirmed_total_date.join(fatalities_total_date)\n",
    "\n",
    "fig, (ax1, ax2) = plt.subplots(1, 2, figsize=(17,7))\n",
    "total_date.plot(ax=ax1)\n",
    "ax1.set_title(\"Global confirmed cases\", size=13)\n",
    "ax1.set_ylabel(\"Number of cases\", size=13)\n",
    "ax1.set_xlabel(\"Date\", size=13)\n",
    "fatalities_total_date.plot(ax=ax2, color='orange')\n",
    "ax2.set_title(\"Global deceased cases\", size=13)\n",
    "ax2.set_ylabel(\"Number of cases\", size=13)\n",
    "ax2.set_xlabel(\"Date\", size=13)"
   ]
  },
  {
   "cell_type": "markdown",
   "metadata": {},
   "source": [
    "### Numero de casos confirmado y fallecidos en Medellín"
   ]
  },
  {
   "cell_type": "code",
   "execution_count": 35,
   "metadata": {},
   "outputs": [
    {
     "data": {
      "text/plain": [
       "Text(0.5, 0, 'Date')"
      ]
     },
     "execution_count": 35,
     "metadata": {},
     "output_type": "execute_result"
    },
    {
     "data": {
      "image/png": "[encoded data removed]",
      "text/plain": [
       "<Figure size 1224x504 with 2 Axes>"
      ]
     },
     "metadata": {},
     "output_type": "display_data"
    }
   ],
   "source": [
    "confirmed_total_date = contagiados_final[contagiados_final['Ciudad_destino'] =='medellin'].groupby(['Fecha de diagnóstico']).agg({'Casos_confirmados':['sum']})\n",
    "fatalities_total_date = contagiados_final[contagiados_final['Ciudad_destino'] =='medellin'].groupby(['Fecha de diagnóstico']).agg({'Fallecidos':['sum']})\n",
    "total_date = confirmed_total_date.join(fatalities_total_date)\n",
    "\n",
    "fig, (ax1, ax2) = plt.subplots(1, 2, figsize=(17,7))\n",
    "total_date.plot(ax=ax1)\n",
    "ax1.set_title(\"medellin confirmed cases\", size=13)\n",
    "ax1.set_ylabel(\"Number of cases\", size=13)\n",
    "ax1.set_xlabel(\"Date\", size=13)\n",
    "fatalities_total_date.plot(ax=ax2, color='orange')\n",
    "ax2.set_title(\"medellin deceased cases\", size=13)\n",
    "ax2.set_ylabel(\"Number of cases\", size=13)\n",
    "ax2.set_xlabel(\"Date\", size=13)"
   ]
  },
  {
   "cell_type": "markdown",
   "metadata": {},
   "source": [
    "### Numero de casos confirmado y fallecidos Bogotá"
   ]
  },
  {
   "cell_type": "code",
   "execution_count": 36,
   "metadata": {},
   "outputs": [
    {
     "data": {
      "text/plain": [
       "Text(0.5, 0, 'Date')"
      ]
     },
     "execution_count": 36,
     "metadata": {},
     "output_type": "execute_result"
    },
    {
     "data": {
      "image/png": "[encoded data removed]",
      "text/plain": [
       "<Figure size 1224x504 with 2 Axes>"
      ]
     },
     "metadata": {},
     "output_type": "display_data"
    }
   ],
   "source": [
    "confirmed_total_date = contagiados_final[contagiados_final['Ciudad_destino'] =='bogota'].groupby(['Fecha de diagnóstico']).agg({'Casos_confirmados':['sum']})\n",
    "fatalities_total_date = contagiados_final[contagiados_final['Ciudad_destino'] =='bogota'].groupby(['Fecha de diagnóstico']).agg({'Fallecidos':['sum']})\n",
    "total_date = confirmed_total_date.join(fatalities_total_date)\n",
    "\n",
    "fig, (ax1, ax2) = plt.subplots(1, 2, figsize=(17,7))\n",
    "total_date.plot(ax=ax1)\n",
    "ax1.set_title(\"Bogotá confirmed cases\", size=13)\n",
    "ax1.set_ylabel(\"Number of cases\", size=13)\n",
    "ax1.set_xlabel(\"Date\", size=13)\n",
    "fatalities_total_date.plot(ax=ax2, color='orange')\n",
    "ax2.set_title(\"Bogotá deceased cases\", size=13)\n",
    "ax2.set_ylabel(\"Number of cases\", size=13)\n",
    "ax2.set_xlabel(\"Date\", size=13)"
   ]
  },
  {
   "cell_type": "code",
   "execution_count": 37,
   "metadata": {},
   "outputs": [],
   "source": [
    "# Create date columns\n",
    "le = LabelEncoder()\n",
    "# numero de días transcurridos desde el primer día de contagio\n",
    "contagiados_final['Day_num'] = le.fit_transform(contagiados_final['Fecha de diagnóstico']) \n",
    "# se separa el dia, el mes y  el año de la fecha dada\n",
    "contagiados_final['Day'] = contagiados_final['Fecha de diagnóstico'].dt.day\n",
    "contagiados_final['Month'] = contagiados_final['Fecha de diagnóstico'].dt.month\n",
    "contagiados_final['Year'] = contagiados_final['Fecha de diagnóstico'].dt.year"
   ]
  },
  {
   "cell_type": "markdown",
   "metadata": {},
   "source": [
    "Con el análisis de los datos en el timepo se puede realizar un ajuste logístico y entrenar un auto-ARIMA para predecir el comprtamiemto a futuro"
   ]
  },
  {
   "cell_type": "markdown",
   "metadata": {},
   "source": [
    "## Ajuste logistico Bogotá"
   ]
  },
  {
   "cell_type": "code",
   "execution_count": 53,
   "metadata": {},
   "outputs": [
    {
     "data": {
      "image/png": "[encoded data removed]",
      "text/plain": [
       "<Figure size 432x288 with 1 Axes>"
      ]
     },
     "metadata": {},
     "output_type": "display_data"
    }
   ],
   "source": [
    "def logistic_function(x, a, b, c, d):\n",
    "    return a / (1. + np.exp(-c * (x - d))) + b\n",
    "\n",
    "def fit_logistic(all_data, country_name, train_lim, target):\n",
    "    data_cp = all_data.loc[(all_data['Ciudad_destino']==country_name)]\n",
    "    y = data_cp.loc[(data_cp['Day_num'])<=train_lim, target].astype(np.int32)\n",
    "    x = list(range(0, len(y)))\n",
    "\n",
    "    # Initial guess\n",
    "    p0 = [0,1,1,0]\n",
    "\n",
    "    (a_, b_, c_, d_), cov = optimize.curve_fit(logistic_function, x, y, bounds=(0, [100000000000., 1000000, 10., 1000000000., ]), p0=p0, maxfev=10**9)\n",
    "    y_fit = logistic_function(x, a_, b_, c_, d_)\n",
    "    \n",
    "    return x, y, y_fit, (a_, b_, c_, d_), cov\n",
    "\n",
    "def plot_logistic(x, y, y_fit, country_name, target):\n",
    "    fig, ax = plt.subplots(1, 1, figsize=(6, 4))\n",
    "    ax.plot(x, y, 'o')\n",
    "    ax.plot(x, y_fit, '-')\n",
    "    ax.set_xlabel(\"Day count (starting on March 3th)\")\n",
    "    ax.set_ylabel(target)\n",
    "    ax.set_title(\"Fit to logistic regression for \"+ country_name)\n",
    "\n",
    "\n",
    "# Fit country to logistic curve\n",
    "city_name = 'bogota'\n",
    "train_lim = 30\n",
    "x, y, y_fit, (a_, b_, c_, d_), cov = fit_logistic(contagiados_final, city_name, train_lim, 'Casos_confirmados')\n",
    "plot_logistic(x, y, y_fit, city_name, 'Casos_confirmados')"
   ]
  },
  {
   "cell_type": "markdown",
   "metadata": {},
   "source": [
    "## Ajuste logistico Medellín"
   ]
  },
  {
   "cell_type": "code",
   "execution_count": 55,
   "metadata": {},
   "outputs": [
    {
     "data": {
      "image/png": "[encoded data removed]",
      "text/plain": [
       "<Figure size 432x288 with 1 Axes>"
      ]
     },
     "metadata": {},
     "output_type": "display_data"
    }
   ],
   "source": [
    "def logistic_function(x, a, b, c, d):\n",
    "    return a / (1. + np.exp(-c * (x - d))) + b\n",
    "\n",
    "def fit_logistic(all_data, country_name, train_lim, target):\n",
    "    data_cp = all_data.loc[(all_data['Ciudad_destino']==country_name)]\n",
    "    y = data_cp.loc[(data_cp['Day_num'])<=train_lim, target].astype(np.int32)\n",
    "    x = list(range(0, len(y)))\n",
    "\n",
    "    # Initial guess\n",
    "    p0 = [0,1,1,0]\n",
    "\n",
    "    (a_, b_, c_, d_), cov = optimize.curve_fit(logistic_function, x, y, bounds=(0, [100000000000., 1000000, 10., 1000000000., ]), p0=p0, maxfev=10**9)\n",
    "    y_fit = logistic_function(x, a_, b_, c_, d_)\n",
    "    \n",
    "    return x, y, y_fit, (a_, b_, c_, d_), cov\n",
    "\n",
    "def plot_logistic(x, y, y_fit, country_name, target):\n",
    "    fig, ax = plt.subplots(1, 1, figsize=(6, 4))\n",
    "    ax.plot(x, y, 'o')\n",
    "    ax.plot(x, y_fit, '-')\n",
    "    ax.set_xlabel(\"Day count (starting on March 3th)\")\n",
    "    ax.set_ylabel(target)\n",
    "    ax.set_title(\"Fit to logistic regression for \"+ country_name)\n",
    "\n",
    "\n",
    "# Fit country to logistic curve\n",
    "city_name = 'medellin'\n",
    "train_lim = 30\n",
    "x, y, y_fit, (a_, b_, c_, d_), cov = fit_logistic(contagiados_final, city_name, train_lim, 'Casos_confirmados')\n",
    "plot_logistic(x, y, y_fit, city_name, 'Casos_confirmados')"
   ]
  },
  {
   "cell_type": "markdown",
   "metadata": {},
   "source": [
    "## Veamos que hace un modleo como el \"Auto-arima\""
   ]
  },
  {
   "cell_type": "markdown",
   "metadata": {},
   "source": [
    "Para entender a fondo este tipo de modelos de series de tiempo, favor revisar los siguientes links: \n",
    "\n",
    "https://otexts.com/fpp2/stationarity.html#fn14\n",
    "\n",
    "https://alkaline-ml.com/pmdarima/modules/generated/pmdarima.arima.auto_arima.html#pmdarima.arima.auto_arima"
   ]
  },
  {
   "cell_type": "code",
   "execution_count": 3,
   "metadata": {},
   "outputs": [
    {
     "data": {
      "image/png": "[encoded data removed]",
      "text/plain": [
       "<Figure size 432x288 with 1 Axes>"
      ]
     },
     "metadata": {},
     "output_type": "display_data"
    }
   ],
   "source": [
    "from pmdarima.model_selection import train_test_split\n",
    "import numpy as np\n",
    "import matplotlib.pyplot as plt\n",
    "\n",
    "# Load/split your data\n",
    "y = pm.datasets.load_wineind()\n",
    "train, test = train_test_split(y, train_size=150)\n",
    "\n",
    "# Fit your model\n",
    "model = pm.auto_arima(train, seasonal=True, m=12)\n",
    "\n",
    "# make your forecasts\n",
    "forecasts = model.predict(test.shape[0])  # predict N steps into the future\n",
    "\n",
    "# Visualize the forecasts (blue=train, green=forecasts)\n",
    "x = np.arange(y.shape[0])\n",
    "plt.plot(x[:150], train, c='blue')\n",
    "plt.plot(x[150:], forecasts, c='green')\n",
    "plt.show()"
   ]
  },
  {
   "cell_type": "markdown",
   "metadata": {},
   "source": [
    "Utilicemos ahora este tipo de modelos en nuestra data"
   ]
  },
  {
   "cell_type": "markdown",
   "metadata": {},
   "source": [
    "## prediccion en series de tiempo ARIMA para Bogotá"
   ]
  },
  {
   "cell_type": "code",
   "execution_count": 38,
   "metadata": {},
   "outputs": [],
   "source": [
    "# Load/split your data\n",
    "city_name = 'bogota'\n",
    "# día de corte para el train/test contado desde el día cero \n",
    "train_lim = 26 # corresponde al 04/04/2020\n",
    "test_lim = train_lim\n",
    "y = contagiados_final.loc[(contagiados_final['Ciudad_destino']==city_name)]\n",
    "train = y.loc[(y['Day_num'])<=train_lim, 'Casos_confirmados'].astype(np.int32)\n",
    "test =  y.loc[(y['Day_num'])>test_lim, 'Casos_confirmados'].astype(np.int32)\n",
    "\n",
    "\n",
    "# Fit your model\n",
    "model = pm.auto_arima(train, seasonal=True)\n",
    "\n",
    "# make your forecasts\n",
    "forecasts = model.predict(test.shape[0])  # predict N steps into the future #"
   ]
  },
  {
   "cell_type": "code",
   "execution_count": 39,
   "metadata": {},
   "outputs": [
    {
     "data": {
      "image/png": "[encoded data removed]",
      "text/plain": [
       "<Figure size 432x288 with 1 Axes>"
      ]
     },
     "metadata": {},
     "output_type": "display_data"
    }
   ],
   "source": [
    "# Visualize the forecasts (blue=train, green=forecasts)\n",
    "x = np.arange(y.shape[0]) #\n",
    "plt.plot(x[:train_lim], train, c='blue')\n",
    "plt.plot(x[train_lim:], forecasts, c='green')\n",
    "\n",
    "plt.show()"
   ]
  },
  {
   "cell_type": "code",
   "execution_count": 47,
   "metadata": {},
   "outputs": [
    {
     "name": "stdout",
     "output_type": "stream",
     "text": [
      "[31, 52, 85, 131] [85.36660079324058, 60.46254476675352, 98.63523067484945, 96.64295801304976]\n"
     ]
    }
   ],
   "source": [
    "y_true =  list(test)\n",
    "y_pred = list(forecasts)\n",
    "\n",
    "print(y_true,y_pred)"
   ]
  },
  {
   "cell_type": "markdown",
   "metadata": {},
   "source": [
    "### SMAPE error"
   ]
  },
  {
   "cell_type": "markdown",
   "metadata": {},
   "source": [
    "The Symmetric mean absolute percentage error is an accuracy measure based on percentage (or relative) errors. Where a perfect SMAPE score is 0.0, and a higher score indicates a higher error rate"
   ]
  },
  {
   "cell_type": "code",
   "execution_count": 56,
   "metadata": {},
   "outputs": [
    {
     "name": "stdout",
     "output_type": "stream",
     "text": [
      "The SMAPE score is: 38.381279289084894\n"
     ]
    }
   ],
   "source": [
    "print(\"The SMAPE score is:\",metrics.smape(y_true, y_pred))"
   ]
  },
  {
   "cell_type": "markdown",
   "metadata": {},
   "source": [
    "## prediccion en series de tiempo ARIMA para Medellín"
   ]
  },
  {
   "cell_type": "code",
   "execution_count": 57,
   "metadata": {},
   "outputs": [],
   "source": [
    "# Load/split your data\n",
    "city_name = 'medellin'\n",
    "# día de corte para el train/test contado desde el día cero \n",
    "train_lim = 26 # corresponde al 04/04/2020\n",
    "test_lim = train_lim\n",
    "y = contagiados_final.loc[(contagiados_final['Ciudad_destino']==city_name)]\n",
    "train = y.loc[(y['Day_num'])<=train_lim, 'Casos_confirmados'].astype(np.int32)\n",
    "test =  y.loc[(y['Day_num'])>test_lim, 'Casos_confirmados'].astype(np.int32)\n",
    "#train, test = train_test_split(y, train_size=26)\n",
    "\n",
    "# Fit your model\n",
    "model = pm.auto_arima(train, seasonal=True)\n",
    "\n",
    "# make your forecasts\n",
    "forecasts = model.predict(test.shape[0])  # predict N steps into the future test.shape[0]\n"
   ]
  },
  {
   "cell_type": "code",
   "execution_count": 184,
   "metadata": {},
   "outputs": [
    {
     "data": {
      "text/html": [
       "<div>\n",
       "<style scoped>\n",
       "    .dataframe tbody tr th:only-of-type {\n",
       "        vertical-align: middle;\n",
       "    }\n",
       "\n",
       "    .dataframe tbody tr th {\n",
       "        vertical-align: top;\n",
       "    }\n",
       "\n",
       "    .dataframe thead th {\n",
       "        text-align: right;\n",
       "    }\n",
       "</style>\n",
       "<table border=\"1\" class=\"dataframe\">\n",
       "  <thead>\n",
       "    <tr style=\"text-align: right;\">\n",
       "      <th></th>\n",
       "      <th>ID</th>\n",
       "      <th>Fecha de diagnóstico</th>\n",
       "      <th>Ciudad_destino</th>\n",
       "      <th>Pais_origen</th>\n",
       "      <th>Casos_confirmados</th>\n",
       "      <th>Fallecidos</th>\n",
       "      <th>Day_num</th>\n",
       "      <th>Day</th>\n",
       "      <th>Month</th>\n",
       "      <th>Year</th>\n",
       "    </tr>\n",
       "  </thead>\n",
       "  <tbody>\n",
       "    <tr>\n",
       "      <th>2</th>\n",
       "      <td>3</td>\n",
       "      <td>2020-03-09</td>\n",
       "      <td>medellin</td>\n",
       "      <td>espana</td>\n",
       "      <td>1.0</td>\n",
       "      <td>0.0</td>\n",
       "      <td>1</td>\n",
       "      <td>9</td>\n",
       "      <td>3</td>\n",
       "      <td>2020</td>\n",
       "    </tr>\n",
       "    <tr>\n",
       "      <th>4</th>\n",
       "      <td>5</td>\n",
       "      <td>2020-03-11</td>\n",
       "      <td>medellin</td>\n",
       "      <td>colombia</td>\n",
       "      <td>2.0</td>\n",
       "      <td>0.0</td>\n",
       "      <td>2</td>\n",
       "      <td>11</td>\n",
       "      <td>3</td>\n",
       "      <td>2020</td>\n",
       "    </tr>\n",
       "    <tr>\n",
       "      <th>20</th>\n",
       "      <td>21</td>\n",
       "      <td>2020-03-14</td>\n",
       "      <td>medellin</td>\n",
       "      <td>colombia</td>\n",
       "      <td>2.0</td>\n",
       "      <td>0.0</td>\n",
       "      <td>5</td>\n",
       "      <td>14</td>\n",
       "      <td>3</td>\n",
       "      <td>2020</td>\n",
       "    </tr>\n",
       "    <tr>\n",
       "      <th>31</th>\n",
       "      <td>32</td>\n",
       "      <td>2020-03-15</td>\n",
       "      <td>medellin</td>\n",
       "      <td>espana</td>\n",
       "      <td>1.0</td>\n",
       "      <td>0.0</td>\n",
       "      <td>6</td>\n",
       "      <td>15</td>\n",
       "      <td>3</td>\n",
       "      <td>2020</td>\n",
       "    </tr>\n",
       "    <tr>\n",
       "      <th>107</th>\n",
       "      <td>108</td>\n",
       "      <td>2020-03-19</td>\n",
       "      <td>medellin</td>\n",
       "      <td>espana</td>\n",
       "      <td>3.0</td>\n",
       "      <td>0.0</td>\n",
       "      <td>10</td>\n",
       "      <td>19</td>\n",
       "      <td>3</td>\n",
       "      <td>2020</td>\n",
       "    </tr>\n",
       "    <tr>\n",
       "      <th>144</th>\n",
       "      <td>145</td>\n",
       "      <td>2020-03-20</td>\n",
       "      <td>medellin</td>\n",
       "      <td>colombia</td>\n",
       "      <td>7.0</td>\n",
       "      <td>0.0</td>\n",
       "      <td>11</td>\n",
       "      <td>20</td>\n",
       "      <td>3</td>\n",
       "      <td>2020</td>\n",
       "    </tr>\n",
       "    <tr>\n",
       "      <th>197</th>\n",
       "      <td>198</td>\n",
       "      <td>2020-03-21</td>\n",
       "      <td>medellin</td>\n",
       "      <td>espana</td>\n",
       "      <td>1.0</td>\n",
       "      <td>0.0</td>\n",
       "      <td>12</td>\n",
       "      <td>21</td>\n",
       "      <td>3</td>\n",
       "      <td>2020</td>\n",
       "    </tr>\n",
       "    <tr>\n",
       "      <th>237</th>\n",
       "      <td>238</td>\n",
       "      <td>2020-03-22</td>\n",
       "      <td>medellin</td>\n",
       "      <td>espana</td>\n",
       "      <td>2.0</td>\n",
       "      <td>0.0</td>\n",
       "      <td>13</td>\n",
       "      <td>22</td>\n",
       "      <td>3</td>\n",
       "      <td>2020</td>\n",
       "    </tr>\n",
       "    <tr>\n",
       "      <th>295</th>\n",
       "      <td>296</td>\n",
       "      <td>2020-03-23</td>\n",
       "      <td>medellin</td>\n",
       "      <td>colombia</td>\n",
       "      <td>13.0</td>\n",
       "      <td>0.0</td>\n",
       "      <td>14</td>\n",
       "      <td>23</td>\n",
       "      <td>3</td>\n",
       "      <td>2020</td>\n",
       "    </tr>\n",
       "    <tr>\n",
       "      <th>465</th>\n",
       "      <td>466</td>\n",
       "      <td>2020-03-25</td>\n",
       "      <td>medellin</td>\n",
       "      <td>colombia</td>\n",
       "      <td>6.0</td>\n",
       "      <td>0.0</td>\n",
       "      <td>16</td>\n",
       "      <td>25</td>\n",
       "      <td>3</td>\n",
       "      <td>2020</td>\n",
       "    </tr>\n",
       "    <tr>\n",
       "      <th>601</th>\n",
       "      <td>602</td>\n",
       "      <td>2020-03-28</td>\n",
       "      <td>medellin</td>\n",
       "      <td>espana</td>\n",
       "      <td>4.0</td>\n",
       "      <td>0.0</td>\n",
       "      <td>19</td>\n",
       "      <td>28</td>\n",
       "      <td>3</td>\n",
       "      <td>2020</td>\n",
       "    </tr>\n",
       "    <tr>\n",
       "      <th>683</th>\n",
       "      <td>684</td>\n",
       "      <td>2020-03-29</td>\n",
       "      <td>medellin</td>\n",
       "      <td>estadosunidos</td>\n",
       "      <td>8.0</td>\n",
       "      <td>0.0</td>\n",
       "      <td>20</td>\n",
       "      <td>29</td>\n",
       "      <td>3</td>\n",
       "      <td>2020</td>\n",
       "    </tr>\n",
       "    <tr>\n",
       "      <th>731</th>\n",
       "      <td>732</td>\n",
       "      <td>2020-03-30</td>\n",
       "      <td>medellin</td>\n",
       "      <td>colombia</td>\n",
       "      <td>8.0</td>\n",
       "      <td>0.0</td>\n",
       "      <td>21</td>\n",
       "      <td>30</td>\n",
       "      <td>3</td>\n",
       "      <td>2020</td>\n",
       "    </tr>\n",
       "    <tr>\n",
       "      <th>835</th>\n",
       "      <td>836</td>\n",
       "      <td>2020-03-31</td>\n",
       "      <td>medellin</td>\n",
       "      <td>colombia</td>\n",
       "      <td>4.0</td>\n",
       "      <td>0.0</td>\n",
       "      <td>22</td>\n",
       "      <td>31</td>\n",
       "      <td>3</td>\n",
       "      <td>2020</td>\n",
       "    </tr>\n",
       "    <tr>\n",
       "      <th>911</th>\n",
       "      <td>912</td>\n",
       "      <td>2020-04-01</td>\n",
       "      <td>medellin</td>\n",
       "      <td>colombia</td>\n",
       "      <td>1.0</td>\n",
       "      <td>0.0</td>\n",
       "      <td>23</td>\n",
       "      <td>1</td>\n",
       "      <td>4</td>\n",
       "      <td>2020</td>\n",
       "    </tr>\n",
       "    <tr>\n",
       "      <th>1091</th>\n",
       "      <td>1092</td>\n",
       "      <td>2020-04-02</td>\n",
       "      <td>medellin</td>\n",
       "      <td>colombia</td>\n",
       "      <td>10.0</td>\n",
       "      <td>0.0</td>\n",
       "      <td>24</td>\n",
       "      <td>2</td>\n",
       "      <td>4</td>\n",
       "      <td>2020</td>\n",
       "    </tr>\n",
       "    <tr>\n",
       "      <th>1262</th>\n",
       "      <td>1263</td>\n",
       "      <td>2020-04-03</td>\n",
       "      <td>medellin</td>\n",
       "      <td>estadosunidos</td>\n",
       "      <td>11.0</td>\n",
       "      <td>0.0</td>\n",
       "      <td>25</td>\n",
       "      <td>3</td>\n",
       "      <td>4</td>\n",
       "      <td>2020</td>\n",
       "    </tr>\n",
       "    <tr>\n",
       "      <th>1276</th>\n",
       "      <td>1277</td>\n",
       "      <td>2020-04-04</td>\n",
       "      <td>medellin</td>\n",
       "      <td>colombia</td>\n",
       "      <td>2.0</td>\n",
       "      <td>0.0</td>\n",
       "      <td>26</td>\n",
       "      <td>4</td>\n",
       "      <td>4</td>\n",
       "      <td>2020</td>\n",
       "    </tr>\n",
       "    <tr>\n",
       "      <th>1446</th>\n",
       "      <td>1447</td>\n",
       "      <td>2020-04-05</td>\n",
       "      <td>medellin</td>\n",
       "      <td>republicadominicana</td>\n",
       "      <td>9.0</td>\n",
       "      <td>0.0</td>\n",
       "      <td>27</td>\n",
       "      <td>5</td>\n",
       "      <td>4</td>\n",
       "      <td>2020</td>\n",
       "    </tr>\n",
       "    <tr>\n",
       "      <th>1513</th>\n",
       "      <td>1514</td>\n",
       "      <td>2020-04-06</td>\n",
       "      <td>medellin</td>\n",
       "      <td>colombia</td>\n",
       "      <td>4.0</td>\n",
       "      <td>1.0</td>\n",
       "      <td>28</td>\n",
       "      <td>6</td>\n",
       "      <td>4</td>\n",
       "      <td>2020</td>\n",
       "    </tr>\n",
       "    <tr>\n",
       "      <th>1779</th>\n",
       "      <td>1780</td>\n",
       "      <td>2020-04-07</td>\n",
       "      <td>medellin</td>\n",
       "      <td>colombia</td>\n",
       "      <td>23.0</td>\n",
       "      <td>0.0</td>\n",
       "      <td>29</td>\n",
       "      <td>7</td>\n",
       "      <td>4</td>\n",
       "      <td>2020</td>\n",
       "    </tr>\n",
       "    <tr>\n",
       "      <th>1997</th>\n",
       "      <td>1998</td>\n",
       "      <td>2020-04-08</td>\n",
       "      <td>medellin</td>\n",
       "      <td>estadosunidos</td>\n",
       "      <td>19.0</td>\n",
       "      <td>0.0</td>\n",
       "      <td>30</td>\n",
       "      <td>8</td>\n",
       "      <td>4</td>\n",
       "      <td>2020</td>\n",
       "    </tr>\n",
       "  </tbody>\n",
       "</table>\n",
       "</div>"
      ],
      "text/plain": [
       "        ID Fecha de diagnóstico Ciudad_destino          Pais_origen  \\\n",
       "2        3           2020-03-09       medellin               espana   \n",
       "4        5           2020-03-11       medellin             colombia   \n",
       "20      21           2020-03-14       medellin             colombia   \n",
       "31      32           2020-03-15       medellin               espana   \n",
       "107    108           2020-03-19       medellin               espana   \n",
       "144    145           2020-03-20       medellin             colombia   \n",
       "197    198           2020-03-21       medellin               espana   \n",
       "237    238           2020-03-22       medellin               espana   \n",
       "295    296           2020-03-23       medellin             colombia   \n",
       "465    466           2020-03-25       medellin             colombia   \n",
       "601    602           2020-03-28       medellin               espana   \n",
       "683    684           2020-03-29       medellin        estadosunidos   \n",
       "731    732           2020-03-30       medellin             colombia   \n",
       "835    836           2020-03-31       medellin             colombia   \n",
       "911    912           2020-04-01       medellin             colombia   \n",
       "1091  1092           2020-04-02       medellin             colombia   \n",
       "1262  1263           2020-04-03       medellin        estadosunidos   \n",
       "1276  1277           2020-04-04       medellin             colombia   \n",
       "1446  1447           2020-04-05       medellin  republicadominicana   \n",
       "1513  1514           2020-04-06       medellin             colombia   \n",
       "1779  1780           2020-04-07       medellin             colombia   \n",
       "1997  1998           2020-04-08       medellin        estadosunidos   \n",
       "\n",
       "      Casos_confirmados  Fallecidos  Day_num  Day  Month  Year  \n",
       "2                   1.0         0.0        1    9      3  2020  \n",
       "4                   2.0         0.0        2   11      3  2020  \n",
       "20                  2.0         0.0        5   14      3  2020  \n",
       "31                  1.0         0.0        6   15      3  2020  \n",
       "107                 3.0         0.0       10   19      3  2020  \n",
       "144                 7.0         0.0       11   20      3  2020  \n",
       "197                 1.0         0.0       12   21      3  2020  \n",
       "237                 2.0         0.0       13   22      3  2020  \n",
       "295                13.0         0.0       14   23      3  2020  \n",
       "465                 6.0         0.0       16   25      3  2020  \n",
       "601                 4.0         0.0       19   28      3  2020  \n",
       "683                 8.0         0.0       20   29      3  2020  \n",
       "731                 8.0         0.0       21   30      3  2020  \n",
       "835                 4.0         0.0       22   31      3  2020  \n",
       "911                 1.0         0.0       23    1      4  2020  \n",
       "1091               10.0         0.0       24    2      4  2020  \n",
       "1262               11.0         0.0       25    3      4  2020  \n",
       "1276                2.0         0.0       26    4      4  2020  \n",
       "1446                9.0         0.0       27    5      4  2020  \n",
       "1513                4.0         1.0       28    6      4  2020  \n",
       "1779               23.0         0.0       29    7      4  2020  \n",
       "1997               19.0         0.0       30    8      4  2020  "
      ]
     },
     "execution_count": 184,
     "metadata": {},
     "output_type": "execute_result"
    }
   ],
   "source": [
    "y"
   ]
  },
  {
   "cell_type": "code",
   "execution_count": 58,
   "metadata": {},
   "outputs": [
    {
     "data": {
      "image/png": "[encoded data removed]",
      "text/plain": [
       "<Figure size 432x288 with 1 Axes>"
      ]
     },
     "metadata": {},
     "output_type": "display_data"
    }
   ],
   "source": [
    "x = y.Day_num\n",
    "plt.plot(x[x <= train_lim], train, c='blue')\n",
    "plt.plot(x[x > train_lim], forecasts, c='green')\n",
    "\n",
    "plt.show()"
   ]
  },
  {
   "cell_type": "code",
   "execution_count": 59,
   "metadata": {},
   "outputs": [
    {
     "name": "stdout",
     "output_type": "stream",
     "text": [
      "[9, 4, 23, 19] [1.2223251348230049, 4.522395020027719, 4.522395020027719, 4.522395020027719]\n"
     ]
    }
   ],
   "source": [
    "y_true =  list(test)\n",
    "y_pred = list(forecasts)\n",
    "\n",
    "print(y_true,y_pred)"
   ]
  },
  {
   "cell_type": "code",
   "execution_count": 60,
   "metadata": {},
   "outputs": [
    {
     "name": "stdout",
     "output_type": "stream",
     "text": [
      "The SMAPE score is: 105.44982517795472\n"
     ]
    }
   ],
   "source": [
    "print(\"The SMAPE score is:\",metrics.smape(y_true, y_pred))"
   ]
  },
  {
   "cell_type": "markdown",
   "metadata": {},
   "source": [
    "## ARIMA PREDICTIONS  VERSION COMPLETE"
   ]
  },
  {
   "cell_type": "code",
   "execution_count": 149,
   "metadata": {},
   "outputs": [],
   "source": [
    "# Define a general function to run ARIMA regression\n",
    "def arima_cp(all_data, city_name, target, train_lim, test_lim):\n",
    "    \n",
    "    #Select data for the Country/Region, splitting train/test days\n",
    "    data_cp = all_data.loc[(all_data['Ciudad_destino']==city_name)]\n",
    "    data_cp_train = data_cp.loc[(data_cp['Day_num'])<=train_lim, target].astype(np.int32)\n",
    "    data_cp_test = data_cp.loc[(data_cp['Day_num'])>test_lim, target].astype(np.int32)\n",
    "\n",
    "\n",
    "    # Set the range of parameters to use\n",
    "    stepwise_model = pm.auto_arima(data_cp[target], start_p=1, start_q=1, max_p=30, max_q=30, \n",
    "                                start_P=0, seasonal=False, d=2, trace=False, error_action='ignore', stepwise=True)\n",
    "\n",
    "    # Train and predict\n",
    "    stepwise_model.fit(data_cp_train, start_ar_lags=2*max(30, 30))\n",
    "    forecast = stepwise_model.predict(n_periods=15)\n",
    "    return forecast, data_cp_train\n",
    "\n",
    "\n",
    "# Plot the actual values vs predictions\n",
    "def plot_arima_country(all_data, train, forecast, city_name, valid_num, target):\n",
    "    df_train = train \n",
    "    df_fcst = np.append(df_train[:valid_num], forecast)\n",
    "    dates = list(range(0,len(df_fcst))) \n",
    "    print(len(dates))\n",
    "    \n",
    "    # Plot results\n",
    "    fig, (ax1) = plt.subplots(1, 1, figsize=(10,6))\n",
    "    ax1.plot(dates, df_fcst, color='orange')\n",
    "\n",
    "    ax1.axvline(valid_num-1, linewidth=2, ls = ':', color='grey', alpha=0.5)\n",
    "    ax1.set_title(\"Actual ConfirmedCases vs predictions based on ARIMA for \"+city_name)\n",
    "    ax1.legend(['Predicted cases', 'Train-test split'], loc='upper left')\n",
    "    ax1.set_xlabel(\"Day count starting on March 3th\")\n",
    "    ax1.set_ylabel(\"ConfirmedCases\")\n",
    "    \n",
    " # Plot the actual values\n",
    "def plot_actaula_cases(all_data, train, city_name):\n",
    "    df_train = train #.loc[(train['Ciudad_destino']==city_name), target]\n",
    "    #df_fcst = np.append(df_train[:valid_num], forecast)\n",
    "    dates = list(range(0,len(df_train)))  #np.arange(all_data.shape[0]) #\n",
    "    #print(len(dates))\n",
    "    \n",
    "    # Plot results\n",
    "    fig, (ax1) = plt.subplots(1, 1, figsize=(10,6))\n",
    "  \n",
    "    ax1.plot(dates, df_train)\n",
    "    ax1.set_title(\"Actual ConfirmedCases for \"+city_name)\n",
    "    ax1.legend(['Actual ConfirmedCases', 'Train-test split'], loc='upper left')\n",
    "    ax1.set_xlabel(\"Day count starting on March 3th\")\n",
    "    ax1.set_ylabel(\"ConfirmedCases\")\n",
    "       "
   ]
  },
  {
   "cell_type": "code",
   "execution_count": 150,
   "metadata": {},
   "outputs": [
    {
     "name": "stdout",
     "output_type": "stream",
     "text": [
      "41\n"
     ]
    },
    {
     "data": {
      "image/png": "[encoded data removed]",
      "text/plain": [
       "<Figure size 720x432 with 1 Axes>"
      ]
     },
     "metadata": {},
     "output_type": "display_data"
    },
    {
     "data": {
      "image/png": "[encoded data removed]",
      "text/plain": [
       "<Figure size 720x432 with 1 Axes>"
      ]
     },
     "metadata": {},
     "output_type": "display_data"
    }
   ],
   "source": [
    "city_name = 'bogota'\n",
    "train_lim = 26 # corresponde al 04/04/2020\n",
    "test_lim = train_lim\n",
    "valid_lim = 19 # needs to be changed as more days of training data are included\n",
    "valid_num= 26#valid_lim-train_lim \n",
    "\n",
    "forecast, train = arima_cp(contagiados_final, city_name, 'Casos_confirmados', train_lim, test_lim)\n",
    "\n",
    "plot_actaula_cases(contagiados_final, train, city_name)\n",
    "\n",
    "plot_arima_country(contagiados_final, train, forecast, city_name, valid_num, 'Casos_confirmados')"
   ]
  },
  {
   "cell_type": "markdown",
   "metadata": {},
   "source": [
    "## ARIMA PREDICTIONS FOR COLOMBIA - Confirmed cases and death cases"
   ]
  },
  {
   "cell_type": "code",
   "execution_count": 183,
   "metadata": {},
   "outputs": [],
   "source": [
    "# Define a general function to run ARIMA regression\n",
    "def arima_colombia(all_data, target, train_lim, test_lim):\n",
    "    \n",
    "    confirmed_total_date = all_data.groupby(['Day_num']).agg({'Casos_confirmados':'sum'}).reset_index()\n",
    "    \n",
    "    data_cp_train = confirmed_total_date.loc[(confirmed_total_date['Day_num'])<=train_lim, target].astype(np.int32)\n",
    "    data_cp_test = confirmed_total_date.loc[(confirmed_total_date['Day_num'])>test_lim, target].astype(np.int32)\n",
    "\n",
    "    # Set the range of parameters to use\n",
    "    stepwise_model = pm.auto_arima(confirmed_total_date[target], start_p=1, start_q=1, max_p=30, max_q=30, \n",
    "                                start_P=0, seasonal=False, d=2, trace=False, error_action='ignore', stepwise=True)\n",
    "\n",
    "    # Train and predict\n",
    "    stepwise_model.fit(data_cp_train, start_ar_lags=2*max(30, 30))\n",
    "    forecast = stepwise_model.predict(n_periods=15)\n",
    "    return forecast, data_cp_train, data_cp_test\n",
    "\n"
   ]
  },
  {
   "cell_type": "code",
   "execution_count": 192,
   "metadata": {},
   "outputs": [],
   "source": [
    "# Plot the actual values vs predictions\n",
    "def plot_arima_colombia(all_data, train, forecast, valid_num, target):\n",
    "    df_train = train \n",
    "    df_fcst = np.append(df_train[:valid_num], forecast)\n",
    "    dates = list(range(0,len(df_fcst))) \n",
    "    print(len(dates))\n",
    "    \n",
    "    # Plot results\n",
    "    fig, (ax1) = plt.subplots(1, 1, figsize=(10,6))\n",
    "    ax1.plot(dates, df_fcst, color='red')\n",
    "\n",
    "    ax1.axvline(valid_num-1, linewidth=2, ls = ':', color='grey', alpha=0.5)\n",
    "    ax1.set_title(\"Actual ConfirmedCases vs predictions based on ARIMA for Colombia\")\n",
    "    ax1.legend(['Predicted cases', 'Train-test split'], loc='upper left')\n",
    "    ax1.set_xlabel(\"Day count starting on March 3th\")\n",
    "    ax1.set_ylabel(\"ConfirmedCases\")"
   ]
  },
  {
   "cell_type": "code",
   "execution_count": 193,
   "metadata": {},
   "outputs": [
    {
     "name": "stdout",
     "output_type": "stream",
     "text": [
      "41\n"
     ]
    },
    {
     "data": {
      "image/png": "[encoded data removed]",
      "text/plain": [
       "<Figure size 720x432 with 1 Axes>"
      ]
     },
     "metadata": {},
     "output_type": "display_data"
    }
   ],
   "source": [
    "forecast, train, test = arima_colombia(contagiados_final, 'Casos_confirmados', 26, 26)\n",
    "\n",
    "plot_arima_colombia(contagiados_final, train, forecast, 26, 'Casos_confirmados')"
   ]
  },
  {
   "cell_type": "markdown",
   "metadata": {},
   "source": [
    "## Compute the SMAPE error for Colombia"
   ]
  },
  {
   "cell_type": "code",
   "execution_count": 188,
   "metadata": {},
   "outputs": [
    {
     "name": "stdout",
     "output_type": "stream",
     "text": [
      "[77, 91, 200, 272] [128.03287085019514, 145.1923203883819, 147.837007790144, 160.21155799618558]\n"
     ]
    }
   ],
   "source": [
    "y_true =  list(test)\n",
    "y_pred = list(forecast[:4]) # se toman los primeros 4 días de prediccion\n",
    "\n",
    "print(y_true,y_pred)"
   ]
  },
  {
   "cell_type": "code",
   "execution_count": 189,
   "metadata": {},
   "outputs": [
    {
     "name": "stdout",
     "output_type": "stream",
     "text": [
      "The SMAPE score is: 44.34745987737904\n"
     ]
    }
   ],
   "source": [
    "print(\"The SMAPE score is:\",metrics.smape(y_true, y_pred))"
   ]
  },
  {
   "cell_type": "code",
   "execution_count": 204,
   "metadata": {},
   "outputs": [],
   "source": [
    "# Define a general function to run ARIMA regression\n",
    "def arima_colombia_fallecidos(all_data, target, train_lim, test_lim):\n",
    "    \n",
    "    confirmed_total_death_date = all_data.groupby(['Day_num']).agg({'Fallecidos':'sum'}).reset_index()\n",
    "    \n",
    "    train = confirmed_total_death_date.loc[(confirmed_total_death_date['Day_num'])<=train_lim, target].astype(np.int32)\n",
    "    test = confirmed_total_death_date.loc[(confirmed_total_death_date['Day_num'])>test_lim, target].astype(np.int32)\n",
    "\n",
    "    # Set the range of parameters to use\n",
    "    stepwise_model = pm.auto_arima(confirmed_total_death_date[target], start_p=1, start_q=1, max_p=30, max_q=30, \n",
    "                                start_P=0, seasonal=False, d=2, trace=False, error_action='ignore', stepwise=True)\n",
    "\n",
    "    # Train and predict\n",
    "    stepwise_model.fit(train, start_ar_lags=2*max(30, 30))\n",
    "    forecast = stepwise_model.predict(n_periods=15)\n",
    "    return forecast, train, test\n"
   ]
  },
  {
   "cell_type": "code",
   "execution_count": 210,
   "metadata": {},
   "outputs": [],
   "source": [
    "# Plot the actual values vs predictions\n",
    "def plot_arima_colombia_fallecidos(all_data, train, forecast, valid_num, target):\n",
    "    df_train = train \n",
    "    df_fcst = np.append(df_train[:valid_num], forecast)\n",
    "    dates = list(range(0,len(df_fcst))) \n",
    "    print(len(dates))\n",
    "    \n",
    "    # Plot results\n",
    "    fig, (ax1) = plt.subplots(1, 1, figsize=(10,6))\n",
    "    ax1.plot(dates, df_fcst, color='green')\n",
    "\n",
    "    ax1.axvline(valid_num-1, linewidth=2, ls = ':', color='grey', alpha=0.5)\n",
    "    ax1.set_title(\"Actual ConfirmedDeathCases vs predictions based on ARIMA for Colombia\")\n",
    "    ax1.legend(['Predicted cases', 'Train-test split'], loc='upper left')\n",
    "    ax1.set_xlabel(\"Day count starting on March 3th\")\n",
    "    ax1.set_ylabel(\"DeathCases\")"
   ]
  },
  {
   "cell_type": "code",
   "execution_count": 212,
   "metadata": {},
   "outputs": [
    {
     "name": "stdout",
     "output_type": "stream",
     "text": [
      "41\n"
     ]
    },
    {
     "data": {
      "image/png": "[encoded data removed]",
      "text/plain": [
       "<Figure size 720x432 with 1 Axes>"
      ]
     },
     "metadata": {},
     "output_type": "display_data"
    }
   ],
   "source": [
    "forecast_death, train_death, test_death = arima_colombia_fallecidos(contagiados_final, 'Fallecidos', 26, 26)\n",
    "\n",
    "plot_arima_colombia_fallecidos(contagiados_final, train_death, forecast_death, 26, 'Fallecidos')"
   ]
  },
  {
   "cell_type": "markdown",
   "metadata": {},
   "source": [
    "## Compute the SMAPE error for Colombia death cases"
   ]
  },
  {
   "cell_type": "code",
   "execution_count": 213,
   "metadata": {},
   "outputs": [
    {
     "name": "stdout",
     "output_type": "stream",
     "text": [
      "[2, 1, 0, 1] [4.189974541063691, 4.492746569834418, 4.805750145117399, 5.128985266912633]\n"
     ]
    }
   ],
   "source": [
    "y_death_true =  list(test_death)\n",
    "y_detah_pred = list(forecast_death[:4]) # se toman los primeros 4 días de prediccion\n",
    "\n",
    "print(y_death_true,y_detah_pred)"
   ]
  },
  {
   "cell_type": "code",
   "execution_count": 214,
   "metadata": {
    "scrolled": true
   },
   "outputs": [
    {
     "name": "stdout",
     "output_type": "stream",
     "text": [
      "The SMAPE score is: 133.16794670926245\n"
     ]
    }
   ],
   "source": [
    "print(\"The SMAPE score is:\",metrics.smape(y_death_true, y_detah_pred))"
   ]
  },
  {
   "cell_type": "code",
   "execution_count": null,
   "metadata": {},
   "outputs": [],
   "source": [
    "# casos_fallecidos = pd.DataFrame(contagiados.groupby(['Ciudad_destino','Fecha de diagnóstico']).agg({'positivo_fallecido':'sum'})).reset_index().rename(columns={'positivo_fallecido':'Fallecidos'})\n",
    "\n",
    "# contagiados = pd.merge(contagiados, casos_fallecidos, on=['Ciudad_destino','Fecha de diagnóstico'], how='left')\n",
    "# contagiados.head()\n",
    "\n",
    "# casos_confirmados = pd.DataFrame(contagiados.groupby(['Ciudad_destino','Fecha de diagnóstico']).agg({'positivo_covid':'sum'})).reset_index().rename(columns={'positivo_covid':'Casos_confirmados'})\n",
    "\n",
    "# contagiados = pd.merge(contagiados, casos_confirmados, on=['Ciudad_destino','Fecha de diagnóstico'], how='left')\n",
    "# contagiados.head()"
   ]
  }
 ],
 "metadata": {
  "kernelspec": {
   "display_name": "Python 3",
   "language": "python",
   "name": "python3"
  },
  "language_info": {
   "codemirror_mode": {
    "name": "ipython",
    "version": 3
   },
   "file_extension": ".py",
   "mimetype": "text/x-python",
   "name": "python",
   "nbconvert_exporter": "python",
   "pygments_lexer": "ipython3",
   "version": "3.6.5"
  }
 },
 "nbformat": 4,
 "nbformat_minor": 2
}
